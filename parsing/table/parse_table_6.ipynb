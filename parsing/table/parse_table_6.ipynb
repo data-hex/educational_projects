{
 "cells": [
  {
   "cell_type": "markdown",
   "id": "284d85bd",
   "metadata": {},
   "source": [
    "task https://stepik.org/lesson/730366/step/7?unit=731870"
   ]
  },
  {
   "cell_type": "code",
   "execution_count": 12,
   "id": "faaa922e",
   "metadata": {},
   "outputs": [
    {
     "name": "stdout",
     "output_type": "stream",
     "text": [
      "[505.206, 369.211, 371.566, 659.462, 431.64, 426.693, 488.112, 487.152, 511.983, 403.137, 420.792, 468.252, 416.635, 443.035, 397094.0]\n"
     ]
    }
   ],
   "source": [
    "from bs4 import BeautifulSoup\n",
    "import requests\n",
    "import numpy as np\n",
    "\n",
    "url = 'https://parsinger.ru/table/5/index.html'\n",
    "response = requests.get(url=url)\n",
    "response.encoding = 'utf-8'\n",
    "soup = BeautifulSoup(response.text, 'lxml')\n",
    "keys = [x.text for x in soup.find_all('th')]\n",
    "values = []\n",
    "for i in range(1,16):\n",
    "    column = round(sum([float(x.text) for x in soup.select(f'td:nth-of-type({i})')]), 3)\n",
    "    values += [column]\n",
    "print(values)\n",
    "d = dict()"
   ]
  },
  {
   "cell_type": "code",
   "execution_count": 13,
   "id": "2d18023b",
   "metadata": {},
   "outputs": [
    {
     "name": "stdout",
     "output_type": "stream",
     "text": [
      "{'1 column': 505.206, '2 column': 369.211, '3 column': 371.566, '4 column': 659.462, '5 column': 431.64, '6 column': 426.693, '7 column': 488.112, '8 column': 487.152, '9 column': 511.983, '10 column': 403.137, '11 column': 420.792, '12 column': 468.252, '13 column': 416.635, '14 column': 443.035, '15 column': 397094.0}\n"
     ]
    }
   ],
   "source": [
    "for i in range(len(keys)):\n",
    "    d[keys[i]] = values[i]\n",
    "print(d)"
   ]
  },
  {
   "cell_type": "code",
   "execution_count": null,
   "id": "1533f788",
   "metadata": {},
   "outputs": [],
   "source": []
  }
 ],
 "metadata": {
  "kernelspec": {
   "display_name": "Python 3 (ipykernel)",
   "language": "python",
   "name": "python3"
  },
  "language_info": {
   "codemirror_mode": {
    "name": "ipython",
    "version": 3
   },
   "file_extension": ".py",
   "mimetype": "text/x-python",
   "name": "python",
   "nbconvert_exporter": "python",
   "pygments_lexer": "ipython3",
   "version": "3.9.12"
  }
 },
 "nbformat": 4,
 "nbformat_minor": 5
}
