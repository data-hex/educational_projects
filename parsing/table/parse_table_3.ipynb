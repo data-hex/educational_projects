{
 "cells": [
  {
   "cell_type": "markdown",
   "id": "f9007f32",
   "metadata": {},
   "source": [
    "task https://stepik.org/lesson/730366/step/4?unit=731870"
   ]
  },
  {
   "cell_type": "code",
   "execution_count": 5,
   "id": "18cc35a1",
   "metadata": {},
   "outputs": [
    {
     "data": {
      "text/plain": [
       "373.32899999999995"
      ]
     },
     "execution_count": 5,
     "metadata": {},
     "output_type": "execute_result"
    }
   ],
   "source": [
    "from bs4 import BeautifulSoup\n",
    "import requests\n",
    "\n",
    "url = 'https://parsinger.ru/table/3/index.html'\n",
    "response = requests.get(url=url)\n",
    "response.encoding = 'utf-8'\n",
    "soup = BeautifulSoup(response.text, 'lxml')\n",
    "data = [float(x.text) for x in soup.find_all('b')]\n",
    "sum(data)"
   ]
  }
 ],
 "metadata": {
  "kernelspec": {
   "display_name": "Python 3 (ipykernel)",
   "language": "python",
   "name": "python3"
  },
  "language_info": {
   "codemirror_mode": {
    "name": "ipython",
    "version": 3
   },
   "file_extension": ".py",
   "mimetype": "text/x-python",
   "name": "python",
   "nbconvert_exporter": "python",
   "pygments_lexer": "ipython3",
   "version": "3.9.12"
  }
 },
 "nbformat": 4,
 "nbformat_minor": 5
}
