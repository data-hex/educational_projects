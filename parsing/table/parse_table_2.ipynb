{
 "cells": [
  {
   "cell_type": "markdown",
   "id": "286ed7be",
   "metadata": {},
   "source": [
    "task https://stepik.org/lesson/730366/step/3?unit=731870"
   ]
  },
  {
   "cell_type": "code",
   "execution_count": 1,
   "id": "6ee210b3",
   "metadata": {},
   "outputs": [],
   "source": [
    "from bs4 import BeautifulSoup\n",
    "import requests\n",
    "import re\n"
   ]
  },
  {
   "cell_type": "code",
   "execution_count": 4,
   "id": "df7dff8e",
   "metadata": {},
   "outputs": [
    {
     "name": "stdout",
     "output_type": "stream",
     "text": [
      "[3.135, 2.401, 5.954, 1.99, 8.102, 4.015, 2.659, 11.154, 4.447, 1.103, 7.108, 8.874, 9.025, 10.1, 1.509, 4.561, 7.612, 1.983, 12.564, 8.915, 8.874, 1.567, 4.898, 8.999, 1.11, 10.911, 8.912, 4.313, 9.014, 10.115, 9.741, 4.162, 8.9, 9.104, 5.565, 7.966, 4.197, 8.846, 1.169, 10.991, 1.211, 9.014, 7.813, 5.614, 6.115, 1.846, 8.622, 6.133, 4.641, 8.215, 2.956, 1.917, 8.9, 1.849, 10.001, 5.611, 1.112, 9.513, 7.514, 1.105, 8.951, 2.612, 3.021, 4.924, 5.206, 7.516, 1.597, 9.108, 6.659, 10.106, 1.401, 6.612, 4.613, 7.814, 9.515, 6.591, 6.402, 1.653, 4.654, 1.545, 6.689, 1.357, 8.651, 8.951, 10.506, 1.101, 9.812, 3.613, 7.123, 8.115, 8.161, 2.215, 9.103, 1.654, 5.87, 1.656, 7.74, 4.458, 9.9, 7.1, 1.401, 9.012, 1.101, 6.614, 7.515, 1.106, 4.502, 5.603, 9.604, 3.505, 1.506, 8.507, 5.158, 9.98, 6.01, 7.611, 5.512, 4.613, 9.014, 1.615, 6.151, 5.2, 3.51, 5.158, 8.805, 7.406, 1.207, 8.508, 7.079, 5.01, 9.511, 1.312, 8.813, 3.214, 5.515, 1.846, 5.602, 3.21, 7.954, 5.862, 4.756, 9.637, 1.548, 5.515, 9.61, 5.611, 7.98, 1.233, 6.514, 5.615, 9.101, 7.852, 3.204, 4.697, 6.415, 1.156, 1.548, 1.568, 5.689, 10.101, 9.911, 4.512, 6.913, 1.614, 8.915, 1.982, 5.512, 3.15, 7.504, 9.125, 1.626, 4.512, 8.908, 9.209, 1.21, 4.511, 7.812, 3.613, 7.146, 1.756, 8.101, 9.412, 1.203, 4.502, 5.505, 3.656, 1.507, 9.508, 4.511, 5.51, 2.211, 6.612, 1.213, 8.714, 9.15, 1.152, 9.402, 3.12, 8.204, 9.15, 6.086, 8.607, 4.508, 9.806, 1.1, 4.211, 6.112, 5.213, 7.814, 9.015, 1.9, 7.012, 3.074, 9.504, 5.805, 6.086, 1.027, 8.892, 9.589, 10.105, 4.141, 7.612, 6.113, 5.014, 7.515, 6.401, 2.4, 8.3, 4.119, 7.505, 9.506, 7.612, 4.458, 9.591, 7.81, 1.011, 5.612, 9.613, 2.214, 6.015]\n"
     ]
    }
   ],
   "source": [
    "url = 'https://parsinger.ru/table/1/index.html'\n",
    "response = requests.get(url=url)\n",
    "response.encoding = 'utf-8'\n",
    "soup = BeautifulSoup(response.text, 'lxml')\n",
    "data = [float(x.text) for x in soup.find_all('td')]"
   ]
  },
  {
   "cell_type": "code",
   "execution_count": 12,
   "id": "b71bba3c",
   "metadata": {
    "scrolled": true
   },
   "outputs": [
    {
     "name": "stdout",
     "output_type": "stream",
     "text": [
      "80.726\n"
     ]
    }
   ],
   "source": [
    "s = []\n",
    "for i in range(len(data)):\n",
    "    if i%15==0:\n",
    "        s += [data[i]]\n",
    "print(sum(s))"
   ]
  },
  {
   "cell_type": "code",
   "execution_count": null,
   "id": "db0ce4db",
   "metadata": {},
   "outputs": [],
   "source": []
  },
  {
   "cell_type": "code",
   "execution_count": null,
   "id": "5ecc5e7f",
   "metadata": {},
   "outputs": [],
   "source": []
  }
 ],
 "metadata": {
  "kernelspec": {
   "display_name": "Python 3 (ipykernel)",
   "language": "python",
   "name": "python3"
  },
  "language_info": {
   "codemirror_mode": {
    "name": "ipython",
    "version": 3
   },
   "file_extension": ".py",
   "mimetype": "text/x-python",
   "name": "python",
   "nbconvert_exporter": "python",
   "pygments_lexer": "ipython3",
   "version": "3.9.12"
  }
 },
 "nbformat": 4,
 "nbformat_minor": 5
}
