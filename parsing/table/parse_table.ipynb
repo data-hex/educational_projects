{
 "cells": [
  {
   "cell_type": "markdown",
   "id": "89d32d8a",
   "metadata": {},
   "source": [
    "task https://stepik.org/lesson/730366/step/2?unit=731870"
   ]
  },
  {
   "cell_type": "code",
   "execution_count": 42,
   "id": "d003cb8c",
   "metadata": {},
   "outputs": [
    {
     "name": "stdout",
     "output_type": "stream",
     "text": [
      "1240.0959999999998\n"
     ]
    }
   ],
   "source": [
    "from bs4 import BeautifulSoup\n",
    "import requests\n",
    "import re\n",
    "\n",
    "url = 'https://parsinger.ru/table/1/index.html'\n",
    "response = requests.get(url=url)\n",
    "response.encoding = 'utf-8'\n",
    "soup = BeautifulSoup(response.text, 'lxml')\n",
    "data = soup.find_all('td')\n",
    "sett = set()\n",
    "\n",
    "def cleaner(html_string):    \n",
    "    cleaned_string = re.sub(r'\\<[^>]*\\>', '', html_string)\n",
    "    return float(cleaned_string)\n",
    "\n",
    "for i in data:    \n",
    "    sett.add(cleaner(str(i)))\n",
    "\n",
    "s = list(sett)\n",
    "print(sum(s))\n",
    "\n",
    "    \n",
    "\n",
    "\n"
   ]
  }
 ],
 "metadata": {
  "kernelspec": {
   "display_name": "Python 3 (ipykernel)",
   "language": "python",
   "name": "python3"
  },
  "language_info": {
   "codemirror_mode": {
    "name": "ipython",
    "version": 3
   },
   "file_extension": ".py",
   "mimetype": "text/x-python",
   "name": "python",
   "nbconvert_exporter": "python",
   "pygments_lexer": "ipython3",
   "version": "3.9.12"
  }
 },
 "nbformat": 4,
 "nbformat_minor": 5
}
