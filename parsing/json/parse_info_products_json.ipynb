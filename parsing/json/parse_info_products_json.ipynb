{
 "cells": [
  {
   "cell_type": "markdown",
   "id": "1709c681",
   "metadata": {},
   "source": [
    "task https://stepik.org/lesson/701337/step/6?unit=701406"
   ]
  },
  {
   "cell_type": "code",
   "execution_count": 12,
   "id": "64fd687e",
   "metadata": {},
   "outputs": [
    {
     "name": "stdout",
     "output_type": "stream",
     "text": [
      "Файл res3.json создан\n"
     ]
    }
   ],
   "source": [
    "import requests\n",
    "from bs4 import BeautifulSoup\n",
    "import json\n",
    "\n",
    "url = 'https://parsinger.ru/html/index1_page_1.html'\n",
    "site = 'http://parsinger.ru/html/'\n",
    "\n",
    "def get_response(url):\n",
    "    response = requests.get(url=url)\n",
    "    response.encoding = 'utf-8'  \n",
    "    return response\n",
    "\n",
    "def cook_pagination(response,site):\n",
    "    soup = BeautifulSoup(response.text, 'lxml')\n",
    "    pages = [f\"{site}{link['href']}\" for link in soup.find('div', class_='pagen').find_all('a')]        \n",
    "    return pages\n",
    "\n",
    "def flatten(list_of_lists):\n",
    "    if len(list_of_lists) == 0:\n",
    "        return list_of_lists\n",
    "    if isinstance(list_of_lists[0], list):\n",
    "        return flatten(list_of_lists[0]) + flatten(list_of_lists[1:])\n",
    "    return list_of_lists[:1] + flatten(list_of_lists[1:])\n",
    "\n",
    "def cook_products(url, response):\n",
    "    soup = BeautifulSoup(response.text, 'lxml')\n",
    "    categories = 'watch'\n",
    "    name = soup.find(\"p\", id='p_header' ).text\n",
    "    article = soup.find('p', class_='article').text.split()[1]\n",
    "    description = [x.text.split('\\n') for x in soup.find('ul', id ='description')]\n",
    "    description = flatten(description)\n",
    "    description = [value for value in description if value]\n",
    "    availability = soup.find(\"span\", id='in_stock').text    \n",
    "    price = soup.find('span', id='price').text\n",
    "    old_price = soup.find('span', id='old_price').text\n",
    "    \n",
    "    flat = categories, name, article, *[x.split(':')[1].strip() for x in description if x], availability.split()[2], price, old_price, url\n",
    "    return flat\n",
    "\n",
    "def sbor_imen(url, response):\n",
    "    soup = BeautifulSoup(response.text, 'lxml')\n",
    "    description = soup.find('ul', id='description').find_all('li')\n",
    "    li_id = [x['id'] for x in description]\n",
    "    return li_id    \n",
    "\n",
    "\n",
    "for page in cook_pagination(get_response(url),site):\n",
    "    response = get_response(page)\n",
    "    soup = BeautifulSoup(response.text, 'lxml')   \n",
    "    result_json = []\n",
    "    url_products = [f\"{site}{link['href']}\" for link in soup.find_all('a', class_='name_item')]\n",
    "    li_id = sbor_imen(url_products[0], get_response(url_products[0]))\n",
    "    for url_product in url_products:\n",
    "        list_item = cook_products(url_product, get_response(url_product))    \n",
    "        \n",
    "        result_json.append({\n",
    "            'categories': [x.strip() for x in list_item][0],\n",
    "            'name': [x.strip() for x in list_item][1],\n",
    "            'article': [x.strip() for x in list_item][2],\n",
    "            'description':{\n",
    "            f'{li_id[0]}': [x.strip() for x in list_item][3],\n",
    "            f'{li_id[1]}': [x.strip() for x in list_item][4],\n",
    "            f'{li_id[2]}': [x.strip() for x in list_item][5],\n",
    "            f'{li_id[3]}': [x.strip() for x in list_item][6],\n",
    "            f'{li_id[4]}': [x.strip() for x in list_item][7],\n",
    "            f'{li_id[5]}': [x.strip() for x in list_item][8],\n",
    "            f'{li_id[6]}': [x.strip() for x in list_item][9],\n",
    "            f'{li_id[7]}': [x.strip() for x in list_item][10]\n",
    "            },\n",
    "            'count': [x.strip() for x in list_item][11],\n",
    "            'price': [x.strip() for x in list_item][12],\n",
    "            'old_price': [x.strip() for x in list_item][13],\n",
    "            'link': [x.strip() for x in list_item][14]\n",
    "            })\n",
    "        \n",
    "    with open('res3.json', 'a', encoding='utf-8') as file:\n",
    "        json.dump(result_json, file, indent=4, ensure_ascii=False)\n",
    "\n",
    "print('Файл res3.json создан')\n",
    "\n"
   ]
  }
 ],
 "metadata": {
  "kernelspec": {
   "display_name": "Python 3 (ipykernel)",
   "language": "python",
   "name": "python3"
  },
  "language_info": {
   "codemirror_mode": {
    "name": "ipython",
    "version": 3
   },
   "file_extension": ".py",
   "mimetype": "text/x-python",
   "name": "python",
   "nbconvert_exporter": "python",
   "pygments_lexer": "ipython3",
   "version": "3.9.12"
  }
 },
 "nbformat": 4,
 "nbformat_minor": 5
}
