{
 "cells": [
  {
   "cell_type": "code",
   "execution_count": 17,
   "id": "5d97e8c1",
   "metadata": {},
   "outputs": [
    {
     "name": "stdout",
     "output_type": "stream",
     "text": [
      "Файл res88.json создан\n"
     ]
    }
   ],
   "source": [
    "import requests\n",
    "from bs4 import BeautifulSoup\n",
    "import json\n",
    "\n",
    "url = 'https://parsinger.ru/html/index1_page_1.html'\n",
    "site = 'http://parsinger.ru/html/'\n",
    "\n",
    "def get_response(url):\n",
    "    response = requests.get(url=url)\n",
    "    response.encoding = 'utf-8'  \n",
    "    return response\n",
    "\n",
    "def cook_pagination(response,site):\n",
    "    soup = BeautifulSoup(response.text, 'lxml')\n",
    "    pages = [f\"{site}{link['href']}\" for link in soup.find('div', class_='pagen').find_all('a')]        \n",
    "    return pages\n",
    "def list_categories(response,site):\n",
    "    soup = BeautifulSoup(response.text, 'lxml')\n",
    "    categories = [f\"{site}{link['href']}\" for link in soup.find('div', class_='nav_menu').find_all('a')]    \n",
    "    return categories\n",
    "\n",
    "\n",
    "for category in list_categories(get_response(url), site):    \n",
    "    for i in cook_pagination(get_response(category),site):    \n",
    "        response = get_response(i)\n",
    "        soup = BeautifulSoup(response.text, 'lxml')\n",
    "        name = [x.text.strip() for x in soup.find_all('a', class_='name_item')]\n",
    "        description = [x.text.strip().split('\\n') for x in soup.find_all('div', class_='description')]    \n",
    "        price = [x.text for x in soup.find_all('p', class_='price')]\n",
    "        \n",
    "        result_json = []\n",
    "        for list_item, price_item, name in zip(description, price, name):\n",
    "            result_json.append({\n",
    "                'name': name,\n",
    "                f'{[x.split(\":\")[0].strip() for x in list_item][0]}': [x.split(':')[1].strip() for x in list_item][0],\n",
    "                f'{[x.split(\":\")[0].strip() for x in list_item][1]}': [x.split(':')[1].strip() for x in list_item][1],\n",
    "                f'{[x.split(\":\")[0].strip() for x in list_item][2]}': [x.split(':')[1].strip() for x in list_item][2],\n",
    "                f'{[x.split(\":\")[0].strip() for x in list_item][3]}': [x.split(':')[1].strip() for x in list_item][3],                \n",
    "                'price': price_item\n",
    "                })\n",
    "        \n",
    "        with open('res88.json', 'a', encoding='utf-8') as file:\n",
    "            json.dump(result_json, file, indent=4, ensure_ascii=False)\n",
    "\n",
    "print('Файл res88.json создан')"
   ]
  },
  {
   "cell_type": "code",
   "execution_count": null,
   "id": "cd631fbf",
   "metadata": {},
   "outputs": [],
   "source": []
  }
 ],
 "metadata": {
  "kernelspec": {
   "display_name": "Python 3 (ipykernel)",
   "language": "python",
   "name": "python3"
  },
  "language_info": {
   "codemirror_mode": {
    "name": "ipython",
    "version": 3
   },
   "file_extension": ".py",
   "mimetype": "text/x-python",
   "name": "python",
   "nbconvert_exporter": "python",
   "pygments_lexer": "ipython3",
   "version": "3.9.12"
  }
 },
 "nbformat": 4,
 "nbformat_minor": 5
}
