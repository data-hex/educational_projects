{
 "cells": [
  {
   "cell_type": "markdown",
   "id": "d174ac5c",
   "metadata": {},
   "source": [
    "task https://stepik.org/lesson/700231/step/7?unit=700173"
   ]
  },
  {
   "cell_type": "code",
   "execution_count": 6,
   "id": "868d950d",
   "metadata": {},
   "outputs": [
    {
     "name": "stdout",
     "output_type": "stream",
     "text": [
      "12240 15240\n"
     ]
    }
   ],
   "source": [
    "from bs4 import BeautifulSoup\n",
    "import requests\n",
    "\n",
    "url = 'https://parsinger.ru/html/hdd/4/4_1.html'\n",
    "response = requests.get(url=url)\n",
    "response.encoding = 'utf-8'\n",
    "soup = BeautifulSoup(response.text, 'lxml')\n",
    "new_price = int(soup.find('span', id = 'price').text[:-4])\n",
    "old_price = int(soup.find('span', id = 'old_price').text[:-4])\n",
    "print(new_price, old_price)\n"
   ]
  },
  {
   "cell_type": "code",
   "execution_count": 11,
   "id": "acb14a3d",
   "metadata": {},
   "outputs": [
    {
     "data": {
      "text/plain": [
       "19.7"
      ]
     },
     "execution_count": 11,
     "metadata": {},
     "output_type": "execute_result"
    }
   ],
   "source": [
    "discount = round((old_price - new_price)*100/old_price, 1)\n",
    "discount"
   ]
  },
  {
   "cell_type": "code",
   "execution_count": null,
   "id": "243828ab",
   "metadata": {},
   "outputs": [],
   "source": []
  }
 ],
 "metadata": {
  "kernelspec": {
   "display_name": "Python 3 (ipykernel)",
   "language": "python",
   "name": "python3"
  },
  "language_info": {
   "codemirror_mode": {
    "name": "ipython",
    "version": 3
   },
   "file_extension": ".py",
   "mimetype": "text/x-python",
   "name": "python",
   "nbconvert_exporter": "python",
   "pygments_lexer": "ipython3",
   "version": "3.9.12"
  }
 },
 "nbformat": 4,
 "nbformat_minor": 5
}
