{
 "cells": [
  {
   "cell_type": "markdown",
   "id": "2fa959ce",
   "metadata": {},
   "source": [
    "task https://stepik.org/lesson/700334/step/3?unit=700275"
   ]
  },
  {
   "cell_type": "code",
   "execution_count": 27,
   "id": "3000574b",
   "metadata": {},
   "outputs": [
    {
     "name": "stdout",
     "output_type": "stream",
     "text": [
      "['http://parsinger.ru/html/index3_page_1.html', 'http://parsinger.ru/html/index3_page_2.html', 'http://parsinger.ru/html/index3_page_3.html', 'http://parsinger.ru/html/index3_page_4.html']\n"
     ]
    }
   ],
   "source": [
    "from bs4 import BeautifulSoup\n",
    "import requests\n",
    "\n",
    "url = 'https://parsinger.ru/html/index3_page_1.html'\n",
    "response = requests.get(url=url)\n",
    "response.encoding = 'utf-8'\n",
    "soup = BeautifulSoup(response.text, 'lxml')\n",
    "shema = 'http://parsinger.ru/html/'\n",
    "pagen = [f\"{shema}{link['href']}\" for link in soup.find('div', class_='pagen').find_all('a')]\n",
    "print(pagen)"
   ]
  },
  {
   "cell_type": "code",
   "execution_count": 43,
   "id": "e7747f25",
   "metadata": {
    "scrolled": true
   },
   "outputs": [
    {
     "name": "stdout",
     "output_type": "stream",
     "text": [
      "[[' Vampire RGB,9 кнопок ', 'Defender Halo Z GM-430L', ' Defender Shark 2 ', ' Defender sTarx GM-390L ', ' Defender Skull GM-180L ', ' Defender Killer GM-170L ', ' Defender Ghost GM-190L ', ' Defender Witcher GM-990 '], [' Logitech G305 LIGHTSPEED Wireless ', ' Logitech G102 LIGHTSYNC Gaming', ' Logitech G PRO HERO Black ', ' Logitech G402 Hyperion Fury ', ' STM 109CW ', ' Defender MB-986 ', ' Gembird MG-520 ', ' CBR CM 846 '], [' Гарнизон GM-720G ', ' Гарнизон GM-700G ', ' Гарнизон GM-760G ', ' Гарнизон GM-730G ', ' Гарнизон GM-620G ', ' A4TECH Bloody Q51 ', ' MGK-03U Dialog Gan-Kata ', ' Defender Flash MB-600L '], [' Gembird MG-550 ', ' Lenovo Legion M200 ', ' Sven RX-G750 ', ' Wired Gaming Mouse ', ' MSI Clutch GM08 ', '  Gembird MG-760 ', ' MGK-11U Dialog Gan-Kata ', ' Logitech G102 ']]\n"
     ]
    }
   ],
   "source": [
    "names2 = []\n",
    "for i in pagen:\n",
    "    names = []\n",
    "    uri = i\n",
    "    response2 = requests.get(url=uri)\n",
    "    response2.encoding = 'utf-8'\n",
    "    soup2 = BeautifulSoup(response2.text, 'lxml')\n",
    "    pars_a =  soup2.find_all('a', class_='name_item')    \n",
    "    for name in pars_a:\n",
    "        names.append(name.text)\n",
    "    names2 += [names]\n",
    "print(names2)\n",
    "        \n",
    "    "
   ]
  },
  {
   "cell_type": "code",
   "execution_count": null,
   "id": "46b626ac",
   "metadata": {},
   "outputs": [],
   "source": []
  },
  {
   "cell_type": "code",
   "execution_count": null,
   "id": "6eeec0e2",
   "metadata": {},
   "outputs": [],
   "source": []
  }
 ],
 "metadata": {
  "kernelspec": {
   "display_name": "Python 3 (ipykernel)",
   "language": "python",
   "name": "python3"
  },
  "language_info": {
   "codemirror_mode": {
    "name": "ipython",
    "version": 3
   },
   "file_extension": ".py",
   "mimetype": "text/x-python",
   "name": "python",
   "nbconvert_exporter": "python",
   "pygments_lexer": "ipython3",
   "version": "3.9.12"
  }
 },
 "nbformat": 4,
 "nbformat_minor": 5
}
