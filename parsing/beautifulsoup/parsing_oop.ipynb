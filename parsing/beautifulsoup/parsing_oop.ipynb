{
 "cells": [
  {
   "cell_type": "markdown",
   "id": "509a17d1",
   "metadata": {},
   "source": [
    "task https://stepik.org/lesson/700334/step/4?unit=700275"
   ]
  },
  {
   "cell_type": "code",
   "execution_count": 54,
   "id": "69aa6145",
   "metadata": {},
   "outputs": [],
   "source": [
    "from bs4 import BeautifulSoup\n",
    "import requests"
   ]
  },
  {
   "cell_type": "code",
   "execution_count": 55,
   "id": "61e5cb18",
   "metadata": {},
   "outputs": [],
   "source": [
    "class Parser:\n",
    "    def __init__(self):\n",
    "        self.articles = []\n",
    "    \n",
    "    def get_response(self, url):\n",
    "        response = requests.get(url=url)\n",
    "        response.encoding = 'utf-8'\n",
    "        return response\n",
    "    \n",
    "    def page_visit(self, vpage):\n",
    "        response = self.get_response(vpage)\n",
    "        soup = BeautifulSoup(response.text, 'lxml')\n",
    "        article = soup.find('p', class_='article').text\n",
    "        article = article.split()\n",
    "        return article[1]\n",
    "    \n",
    "    def list_pages(self, response, site):\n",
    "        soup = BeautifulSoup(response.text, 'lxml')\n",
    "        pagen = [f\"{site}{link['href']}\" for link in soup.find('div', class_='pagen').find_all('a')]        \n",
    "        return pagen\n",
    "        \n",
    "    def start_parse(self, url, site):\n",
    "        response = self.get_response(url)\n",
    "        for page in self.list_pages(response, site):\n",
    "            soup = BeautifulSoup(self.get_response(page).text, 'lxml')\n",
    "            vpages = [f\"{site}{link['href']}\" for link in soup.find_all('a', class_='name_item')]\n",
    "            for vpage in vpages:\n",
    "                self.articles += [int(self.page_visit(vpage))]\n",
    "            \n",
    "        print(sum(self.articles))\n",
    "\n",
    "\n",
    "        \n",
    "        "
   ]
  },
  {
   "cell_type": "code",
   "execution_count": 56,
   "id": "3ff75fcc",
   "metadata": {},
   "outputs": [
    {
     "name": "stdout",
     "output_type": "stream",
     "text": [
      "2505109532\n"
     ]
    }
   ],
   "source": [
    "if __name__ == '__main__':\n",
    "    url = 'https://parsinger.ru/html/index3_page_4.html'\n",
    "    site = 'http://parsinger.ru/html/'\n",
    "    parser = Parser()\n",
    "    parser.start_parse(url, site)"
   ]
  },
  {
   "cell_type": "code",
   "execution_count": null,
   "id": "21916136",
   "metadata": {},
   "outputs": [],
   "source": []
  }
 ],
 "metadata": {
  "kernelspec": {
   "display_name": "Python 3 (ipykernel)",
   "language": "python",
   "name": "python3"
  },
  "language_info": {
   "codemirror_mode": {
    "name": "ipython",
    "version": 3
   },
   "file_extension": ".py",
   "mimetype": "text/x-python",
   "name": "python",
   "nbconvert_exporter": "python",
   "pygments_lexer": "ipython3",
   "version": "3.9.12"
  }
 },
 "nbformat": 4,
 "nbformat_minor": 5
}
