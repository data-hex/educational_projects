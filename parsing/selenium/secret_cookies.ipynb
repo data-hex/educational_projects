{
 "cells": [
  {
   "cell_type": "markdown",
   "id": "84676d80",
   "metadata": {},
   "source": [
    "task  https://stepik.org/lesson/715854/step/6?unit=716645"
   ]
  },
  {
   "cell_type": "code",
   "execution_count": 6,
   "id": "0acd525c",
   "metadata": {},
   "outputs": [
    {
     "name": "stdout",
     "output_type": "stream",
     "text": [
      "4901217\n"
     ]
    }
   ],
   "source": [
    "from selenium import webdriver\n",
    "\n",
    "with webdriver.Chrome() as webdriver:\n",
    "    webdriver.get('https://parsinger.ru/methods/3/index.html')\n",
    "    cookies = webdriver.get_cookies()\n",
    "    spisok = []\n",
    "    for cookie in cookies:\n",
    "        spisok.append(int(cookie['value']))\n",
    "    print(sum(spisok))"
   ]
  }
 ],
 "metadata": {
  "kernelspec": {
   "display_name": "Python 3 (ipykernel)",
   "language": "python",
   "name": "python3"
  },
  "language_info": {
   "codemirror_mode": {
    "name": "ipython",
    "version": 3
   },
   "file_extension": ".py",
   "mimetype": "text/x-python",
   "name": "python",
   "nbconvert_exporter": "python",
   "pygments_lexer": "ipython3",
   "version": "3.9.12"
  }
 },
 "nbformat": 4,
 "nbformat_minor": 5
}
