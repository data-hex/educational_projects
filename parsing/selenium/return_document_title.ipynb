{
 "cells": [
  {
   "cell_type": "markdown",
   "id": "fa99dd5d",
   "metadata": {},
   "source": [
    "task https://stepik.org/lesson/720527/step/10?unit=721524"
   ]
  },
  {
   "cell_type": "code",
   "execution_count": 11,
   "id": "5fc29712",
   "metadata": {},
   "outputs": [
    {
     "name": "stdout",
     "output_type": "stream",
     "text": [
      "77725787998028643152187739088279\n"
     ]
    }
   ],
   "source": [
    "import time\n",
    "from selenium import webdriver\n",
    "from selenium.webdriver.common.by import By\n",
    "\n",
    "result = 0\n",
    "\n",
    "with webdriver.Chrome() as browser:\n",
    "    browser.get('https://parsinger.ru/blank/3/index.html')\n",
    "    for i in browser.find_elements(By.TAG_NAME, 'input'):\n",
    "        i.click()\n",
    "        time.sleep(1)\n",
    "    for x in range(1,len(browser.window_handles)):\n",
    "        browser.switch_to.window(browser.window_handles[x])\n",
    "        time.sleep(1)\n",
    "        result += int(browser.execute_script(\"return document.title;\"))\n",
    "    print(result)\n",
    "        \n",
    "    "
   ]
  },
  {
   "cell_type": "code",
   "execution_count": null,
   "id": "e0dbf0ca",
   "metadata": {},
   "outputs": [],
   "source": []
  }
 ],
 "metadata": {
  "kernelspec": {
   "display_name": "Python 3 (ipykernel)",
   "language": "python",
   "name": "python3"
  },
  "language_info": {
   "codemirror_mode": {
    "name": "ipython",
    "version": 3
   },
   "file_extension": ".py",
   "mimetype": "text/x-python",
   "name": "python",
   "nbconvert_exporter": "python",
   "pygments_lexer": "ipython3",
   "version": "3.9.12"
  }
 },
 "nbformat": 4,
 "nbformat_minor": 5
}
