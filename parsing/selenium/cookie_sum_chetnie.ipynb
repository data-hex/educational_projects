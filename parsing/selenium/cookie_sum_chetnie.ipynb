{
 "cells": [
  {
   "cell_type": "markdown",
   "id": "1d776206",
   "metadata": {},
   "source": [
    "task https://stepik.org/lesson/715854/step/7?unit=716645"
   ]
  },
  {
   "cell_type": "code",
   "execution_count": 11,
   "id": "599e78d8",
   "metadata": {},
   "outputs": [
    {
     "name": "stdout",
     "output_type": "stream",
     "text": [
      "1962101\n"
     ]
    }
   ],
   "source": [
    "from selenium import webdriver\n",
    "\n",
    "with webdriver.Chrome() as webdriver:\n",
    "    webdriver.get('https://parsinger.ru/methods/3/index.html')\n",
    "    cookies = webdriver.get_cookies()\n",
    "    spisok = []\n",
    "    for cookie in cookies:\n",
    "        if int(cookie['name'].split('_')[2]) % 2==0:\n",
    "            spisok += [int(cookie['value'])]\n",
    "    print(sum(spisok))\n",
    "            "
   ]
  }
 ],
 "metadata": {
  "kernelspec": {
   "display_name": "Python 3 (ipykernel)",
   "language": "python",
   "name": "python3"
  },
  "language_info": {
   "codemirror_mode": {
    "name": "ipython",
    "version": 3
   },
   "file_extension": ".py",
   "mimetype": "text/x-python",
   "name": "python",
   "nbconvert_exporter": "python",
   "pygments_lexer": "ipython3",
   "version": "3.9.12"
  }
 },
 "nbformat": 4,
 "nbformat_minor": 5
}
