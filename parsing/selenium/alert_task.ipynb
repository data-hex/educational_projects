{
 "cells": [
  {
   "cell_type": "code",
   "execution_count": null,
   "id": "5d23159c",
   "metadata": {},
   "outputs": [
    {
     "name": "stdout",
     "output_type": "stream",
     "text": [
      "321968541687435564865796413874\n"
     ]
    }
   ],
   "source": [
    "import time\n",
    "from selenium import webdriver\n",
    "from selenium.webdriver.common.by import By\n",
    "\n",
    "with webdriver.Chrome() as browser:\n",
    "    browser.get('https://parsinger.ru/blank/modal/2/index.html')\n",
    "    buttons = browser.find_elements(By.CLASS_NAME, 'buttons')\n",
    "    for i in buttons:\n",
    "        i.click()\n",
    "        time.sleep(0.3)\n",
    "        alert = browser.switch_to.alert # Если вы планируете что-то делать с этим событием, можно добавить его в переменную\n",
    "        time.sleep(0.1)\n",
    "        alert.accept()\n",
    "        if browser.find_element(By.ID, \"result\").text:\n",
    "            print(browser.find_element(By.ID, \"result\").text)\n",
    "    "
   ]
  },
  {
   "cell_type": "code",
   "execution_count": null,
   "id": "3655df40",
   "metadata": {},
   "outputs": [],
   "source": []
  }
 ],
 "metadata": {
  "kernelspec": {
   "display_name": "Python 3 (ipykernel)",
   "language": "python",
   "name": "python3"
  },
  "language_info": {
   "codemirror_mode": {
    "name": "ipython",
    "version": 3
   },
   "file_extension": ".py",
   "mimetype": "text/x-python",
   "name": "python",
   "nbconvert_exporter": "python",
   "pygments_lexer": "ipython3",
   "version": "3.9.12"
  }
 },
 "nbformat": 4,
 "nbformat_minor": 5
}
