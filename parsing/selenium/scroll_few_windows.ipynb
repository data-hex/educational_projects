{
 "cells": [
  {
   "cell_type": "markdown",
   "id": "88c6735a",
   "metadata": {},
   "source": [
    "task https://stepik.org/lesson/715954/step/13?unit=716748"
   ]
  },
  {
   "cell_type": "code",
   "execution_count": 31,
   "id": "3374e918",
   "metadata": {},
   "outputs": [
    {
     "name": "stdout",
     "output_type": "stream",
     "text": [
      "159858750\n"
     ]
    }
   ],
   "source": [
    "from selenium import webdriver\n",
    "from selenium.webdriver.common.by import By\n",
    "from selenium.webdriver.common.action_chains import ActionChains\n",
    "\n",
    "with webdriver.Chrome() as driver:\n",
    "    action = ActionChains(driver)   \n",
    "    total = 0    \n",
    "    driver.get('http://parsinger.ru/infiniti_scroll_3/')\n",
    "\n",
    "    for i in range(1,6):\n",
    "        checklist = []\n",
    "        while True:\n",
    "            for span in [x for x in driver.find_element(\n",
    "                By.ID, f'scroll-container_{i}').find_elements(By.TAG_NAME, 'span')]:\n",
    "                if int(span.text) not in checklist:                    \n",
    "                    checklist.append(int(span.text))\n",
    "                    action.move_to_element(span).perform()\n",
    "            if len(checklist) == 100:\n",
    "                total +=sum(checklist)\n",
    "                break           \n",
    "\n",
    "    print(total)"
   ]
  },
  {
   "cell_type": "code",
   "execution_count": null,
   "id": "9563f6fa",
   "metadata": {},
   "outputs": [],
   "source": []
  }
 ],
 "metadata": {
  "kernelspec": {
   "display_name": "Python 3 (ipykernel)",
   "language": "python",
   "name": "python3"
  },
  "language_info": {
   "codemirror_mode": {
    "name": "ipython",
    "version": 3
   },
   "file_extension": ".py",
   "mimetype": "text/x-python",
   "name": "python",
   "nbconvert_exporter": "python",
   "pygments_lexer": "ipython3",
   "version": "3.9.12"
  }
 },
 "nbformat": 4,
 "nbformat_minor": 5
}
