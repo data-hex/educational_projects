{
 "cells": [
  {
   "cell_type": "markdown",
   "id": "48297f44",
   "metadata": {},
   "source": [
    "task https://stepik.org/lesson/715955/step/6?unit=716749"
   ]
  },
  {
   "cell_type": "code",
   "execution_count": 4,
   "id": "764d9232",
   "metadata": {},
   "outputs": [
    {
     "name": "stdout",
     "output_type": "stream",
     "text": [
      "688596737976\n"
     ]
    }
   ],
   "source": [
    "from selenium import webdriver\n",
    "from selenium.webdriver.common.by import By\n",
    "from selenium.webdriver.support import expected_conditions as EC\n",
    "from selenium.webdriver.support.ui import WebDriverWait\n",
    "\n",
    "with webdriver.Chrome() as browser:\n",
    "    browser.get('https://parsinger.ru/expectations/5/index.html')\n",
    "    WebDriverWait(browser, 4).until(EC.element_to_be_clickable((By.ID, \"btn\"))).click()\n",
    "    while True:\n",
    "        a = WebDriverWait(browser, 100).until(EC.presence_of_element_located((By.CLASS_NAME, \"BMH21YY\")))               \n",
    "        break\n",
    "    print(a.text)"
   ]
  }
 ],
 "metadata": {
  "kernelspec": {
   "display_name": "Python 3 (ipykernel)",
   "language": "python",
   "name": "python3"
  },
  "language_info": {
   "codemirror_mode": {
    "name": "ipython",
    "version": 3
   },
   "file_extension": ".py",
   "mimetype": "text/x-python",
   "name": "python",
   "nbconvert_exporter": "python",
   "pygments_lexer": "ipython3",
   "version": "3.9.12"
  }
 },
 "nbformat": 4,
 "nbformat_minor": 5
}
