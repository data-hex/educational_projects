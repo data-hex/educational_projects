{
 "cells": [
  {
   "cell_type": "code",
   "execution_count": 1,
   "id": "58e1c411",
   "metadata": {},
   "outputs": [
    {
     "name": "stdout",
     "output_type": "stream",
     "text": [
      "1261851212132345456274632\n"
     ]
    }
   ],
   "source": [
    "import time\n",
    "from selenium import webdriver\n",
    "from selenium.webdriver.common.by import By\n",
    "\n",
    "with webdriver.Chrome() as browser:\n",
    "    browser.get('https://parsinger.ru/blank/modal/4/index.html')\n",
    "    spans = browser.find_elements(By.CLASS_NAME, 'pin')\n",
    "    for span in spans:\n",
    "        text = span.text\n",
    "        knopka = browser.find_element(By.ID, 'check')\n",
    "        knopka.click()\n",
    "        time.sleep(0.1)\n",
    "        alert = browser.switch_to.alert # Если вы планируете что-то делать с этим событием, можно добавить его в переменную\n",
    "        alert.send_keys(text)\n",
    "        alert.accept()\n",
    "        if browser.find_element(By.ID, \"result\").text.isdigit():\n",
    "            print(browser.find_element(By.ID, \"result\").text)\n",
    "        "
   ]
  },
  {
   "cell_type": "code",
   "execution_count": null,
   "id": "02412d7c",
   "metadata": {},
   "outputs": [],
   "source": [
    "tas"
   ]
  }
 ],
 "metadata": {
  "kernelspec": {
   "display_name": "Python 3 (ipykernel)",
   "language": "python",
   "name": "python3"
  },
  "language_info": {
   "codemirror_mode": {
    "name": "ipython",
    "version": 3
   },
   "file_extension": ".py",
   "mimetype": "text/x-python",
   "name": "python",
   "nbconvert_exporter": "python",
   "pygments_lexer": "ipython3",
   "version": "3.9.12"
  }
 },
 "nbformat": 4,
 "nbformat_minor": 5
}
