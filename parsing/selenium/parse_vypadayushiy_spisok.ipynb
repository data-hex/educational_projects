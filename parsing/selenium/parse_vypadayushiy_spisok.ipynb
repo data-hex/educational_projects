{
 "cells": [
  {
   "cell_type": "markdown",
   "id": "7de27f79",
   "metadata": {},
   "source": [
    "task https://stepik.org/lesson/709437/step/13?unit=710000"
   ]
  },
  {
   "cell_type": "code",
   "execution_count": 5,
   "id": "eb1e8234",
   "metadata": {},
   "outputs": [
    {
     "name": "stdout",
     "output_type": "stream",
     "text": [
      "4194183965770\n"
     ]
    }
   ],
   "source": [
    "from selenium import webdriver\n",
    "from selenium.webdriver.common.by import By\n",
    "\n",
    "with webdriver.Chrome() as browser:\n",
    "    browser.get('http://parsinger.ru/selenium/7/7.html')\n",
    "    result = [int(x.text) for x in browser.find_elements(By.XPATH, \"//select[@id='opt']/option\")]\n",
    "    print(sum(result))"
   ]
  }
 ],
 "metadata": {
  "kernelspec": {
   "display_name": "Python 3 (ipykernel)",
   "language": "python",
   "name": "python3"
  },
  "language_info": {
   "codemirror_mode": {
    "name": "ipython",
    "version": 3
   },
   "file_extension": ".py",
   "mimetype": "text/x-python",
   "name": "python",
   "nbconvert_exporter": "python",
   "pygments_lexer": "ipython3",
   "version": "3.9.12"
  }
 },
 "nbformat": 4,
 "nbformat_minor": 5
}
