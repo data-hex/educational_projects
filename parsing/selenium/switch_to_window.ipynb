{
 "cells": [
  {
   "cell_type": "markdown",
   "id": "26cace64",
   "metadata": {},
   "source": [
    "task https://stepik.org/lesson/720527/step/11?unit=721524"
   ]
  },
  {
   "cell_type": "code",
   "execution_count": 22,
   "id": "530aa18a",
   "metadata": {},
   "outputs": [
    {
     "name": "stdout",
     "output_type": "stream",
     "text": [
      "https://parsinger.ru/blank/1/6.html\n",
      "https://parsinger.ru/blank/1/5.html\n",
      "https://parsinger.ru/blank/1/4.html\n",
      "https://parsinger.ru/blank/1/3.html\n",
      "https://parsinger.ru/blank/1/2.html\n",
      "https://parsinger.ru/blank/1/1.html\n",
      "334703.720482347\n"
     ]
    }
   ],
   "source": [
    "import time\n",
    "from selenium import webdriver\n",
    "from selenium.webdriver.common.by import By\n",
    "import math\n",
    "\n",
    "result = 0\n",
    "\n",
    "sites = ['http://parsinger.ru/blank/1/1.html', 'http://parsinger.ru/blank/1/2.html', 'http://parsinger.ru/blank/1/3.html',\n",
    "         'http://parsinger.ru/blank/1/4.html', 'http://parsinger.ru/blank/1/5.html', 'http://parsinger.ru/blank/1/6.html']\n",
    "\n",
    "count = 1\n",
    "with webdriver.Chrome() as browser:\n",
    "    for i in sites:\n",
    "        browser.execute_script(f'window.open(\"{i}\", \"_blank{count}\");')\n",
    "        count += 1\n",
    "        time.sleep(1)\n",
    "    for x in range(1, len(browser.window_handles)):    \n",
    "        browser.switch_to.window(browser.window_handles[x])\n",
    "        link = browser.current_url\n",
    "        print(link)\n",
    "        browser.get(link)\n",
    "        check = browser.find_element(By.CLASS_NAME, 'checkbox_class')\n",
    "        time.sleep(0.5)\n",
    "        check.click()\n",
    "        time.sleep(0.5)\n",
    "        number = math.sqrt(int(browser.find_element(By.ID, \"result\").text))\n",
    "        time.sleep(0.5)\n",
    "        result += number\n",
    "        \n",
    "    print(result)\n",
    "    "
   ]
  }
 ],
 "metadata": {
  "kernelspec": {
   "display_name": "Python 3 (ipykernel)",
   "language": "python",
   "name": "python3"
  },
  "language_info": {
   "codemirror_mode": {
    "name": "ipython",
    "version": 3
   },
   "file_extension": ".py",
   "mimetype": "text/x-python",
   "name": "python",
   "nbconvert_exporter": "python",
   "pygments_lexer": "ipython3",
   "version": "3.9.12"
  }
 },
 "nbformat": 4,
 "nbformat_minor": 5
}
