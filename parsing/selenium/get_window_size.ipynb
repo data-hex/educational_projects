{
 "cells": [
  {
   "cell_type": "code",
   "execution_count": 2,
   "id": "c75be4b7",
   "metadata": {},
   "outputs": [
    {
     "name": "stdout",
     "output_type": "stream",
     "text": [
      "9874163854135461654\n",
      "{'width': 955, 'height': 600}\n"
     ]
    }
   ],
   "source": [
    "from selenium import webdriver\n",
    "from selenium.webdriver.common.by import By\n",
    "import time\n",
    "\n",
    "window_size_x = [516, 648, 680, 701, 730, 750, 805, 820, 855, 890, 955, 1000]\n",
    "window_size_y = [270, 300, 340, 388, 400, 421, 474, 505, 557, 600, 653, 1000]\n",
    "\n",
    "\n",
    "with webdriver.Chrome() as browser:\n",
    "    browser.get('https://parsinger.ru/window_size/2/index.html')\n",
    "    for i in range(len(window_size_x)): \n",
    "        for j in range(len(window_size_y)):\n",
    "            browser.set_window_size(window_size_x[i] + 16, window_size_y[j] + 133)\n",
    "            time.sleep(0.5)\n",
    "            if browser.find_element(By.ID, \"result\").text.isdigit():\n",
    "                print(browser.find_element(By.ID, \"result\").text)\n",
    "                d = browser.get_window_size()\n",
    "                d['width'] = d['width'] - 16\n",
    "                d['height'] = d['height'] - 133\n",
    "                print(d)\n",
    "    time.sleep(1)"
   ]
  },
  {
   "cell_type": "code",
   "execution_count": null,
   "id": "e43f325d",
   "metadata": {},
   "outputs": [],
   "source": []
  }
 ],
 "metadata": {
  "kernelspec": {
   "display_name": "Python 3 (ipykernel)",
   "language": "python",
   "name": "python3"
  },
  "language_info": {
   "codemirror_mode": {
    "name": "ipython",
    "version": 3
   },
   "file_extension": ".py",
   "mimetype": "text/x-python",
   "name": "python",
   "nbconvert_exporter": "python",
   "pygments_lexer": "ipython3",
   "version": "3.9.12"
  }
 },
 "nbformat": 4,
 "nbformat_minor": 5
}
