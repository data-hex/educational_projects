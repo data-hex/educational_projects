{
 "cells": [
  {
   "cell_type": "markdown",
   "id": "b438aabb",
   "metadata": {},
   "source": [
    "task https://stepik.org/lesson/715854/step/2?unit=716645"
   ]
  },
  {
   "cell_type": "code",
   "execution_count": 10,
   "id": "699bbe68",
   "metadata": {},
   "outputs": [
    {
     "name": "stdout",
     "output_type": "stream",
     "text": [
      "4168138981270992\n"
     ]
    }
   ],
   "source": [
    "from selenium import webdriver\n",
    "from selenium.webdriver.common.by import By\n",
    "\n",
    "with webdriver.Chrome() as browser:\n",
    "    browser.get('https://parsinger.ru/methods/1/index.html')\n",
    "           \n",
    "    while browser.find_element(By.ID, 'result').text == 'refresh page':\n",
    "        browser.refresh()\n",
    "    print(browser.find_element(By.ID, 'result').text)\n",
    "       "
   ]
  },
  {
   "cell_type": "code",
   "execution_count": null,
   "id": "5eb435eb",
   "metadata": {},
   "outputs": [],
   "source": []
  }
 ],
 "metadata": {
  "kernelspec": {
   "display_name": "Python 3 (ipykernel)",
   "language": "python",
   "name": "python3"
  },
  "language_info": {
   "codemirror_mode": {
    "name": "ipython",
    "version": 3
   },
   "file_extension": ".py",
   "mimetype": "text/x-python",
   "name": "python",
   "nbconvert_exporter": "python",
   "pygments_lexer": "ipython3",
   "version": "3.9.12"
  }
 },
 "nbformat": 4,
 "nbformat_minor": 5
}
