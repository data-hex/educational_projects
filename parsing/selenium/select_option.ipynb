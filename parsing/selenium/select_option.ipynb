{
 "cells": [
  {
   "cell_type": "markdown",
   "id": "bb99d0f7",
   "metadata": {},
   "source": [
    "task https://stepik.org/lesson/709437/step/14?unit=710000"
   ]
  },
  {
   "cell_type": "code",
   "execution_count": 36,
   "id": "ead89a8d",
   "metadata": {},
   "outputs": [],
   "source": [
    "from selenium import webdriver\n",
    "from selenium.webdriver.common.by import By\n",
    "import re\n",
    "import time\n",
    "\n",
    "def clean_chislo(s):\n",
    "    braces = r'[\\(\\)]'    \n",
    "    s = re.sub(braces, '', s)\n",
    "    return s\n",
    "\n",
    "with webdriver.Chrome() as browser:\n",
    "    browser.get('http://parsinger.ru/selenium/6/6.html')    \n",
    "    chisla = [int(clean_chislo(x.text)) for x in browser.find_elements(By.CLASS_NAME, 'num')]\n",
    "    chislo = str(chisla[0] * chisla[1] * chisla[2] + chisla[3])\n",
    "    \n",
    "    el = browser.find_element(By.ID, \"selectId\")\n",
    "    for option in el.find_elements(By.TAG_NAME,'option'):\n",
    "        if option.text == chislo:\n",
    "            option.click()\n",
    "\n",
    "      \n",
    "    browser.find_element(By.CLASS_NAME, 'btn').click()\n",
    "    time.sleep(5)\n",
    "    "
   ]
  }
 ],
 "metadata": {
  "kernelspec": {
   "display_name": "Python 3 (ipykernel)",
   "language": "python",
   "name": "python3"
  },
  "language_info": {
   "codemirror_mode": {
    "name": "ipython",
    "version": 3
   },
   "file_extension": ".py",
   "mimetype": "text/x-python",
   "name": "python",
   "nbconvert_exporter": "python",
   "pygments_lexer": "ipython3",
   "version": "3.9.12"
  }
 },
 "nbformat": 4,
 "nbformat_minor": 5
}
