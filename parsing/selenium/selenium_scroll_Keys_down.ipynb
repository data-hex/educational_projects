{
 "cells": [
  {
   "cell_type": "code",
   "execution_count": 8,
   "id": "3ae9516e",
   "metadata": {},
   "outputs": [
    {
     "name": "stdout",
     "output_type": "stream",
     "text": [
      "13310\n"
     ]
    }
   ],
   "source": [
    "from selenium.webdriver import Keys\n",
    "from selenium import webdriver\n",
    "from selenium.webdriver.common.by import By\n",
    "\n",
    "with webdriver.Chrome() as browser:\n",
    "    browser.get('https://parsinger.ru/scroll/2/index.html')\n",
    "    tags_input = browser.find_elements(By.TAG_NAME, 'input')\n",
    "    spisok = []\n",
    "    i = 1\n",
    "    for tag in tags_input:        \n",
    "        tag.click()\n",
    "        el = browser.find_element(By.ID, f'result{i}').text\n",
    "        if el:\n",
    "            spisok += [int(el)]\n",
    "        else:\n",
    "            spisok += [0]\n",
    "        i += 1\n",
    "        tag.send_keys(Keys.DOWN)        \n",
    "print(sum(spisok))"
   ]
  },
  {
   "cell_type": "code",
   "execution_count": null,
   "id": "b37fa182",
   "metadata": {},
   "outputs": [],
   "source": []
  }
 ],
 "metadata": {
  "kernelspec": {
   "display_name": "Python 3 (ipykernel)",
   "language": "python",
   "name": "python3"
  },
  "language_info": {
   "codemirror_mode": {
    "name": "ipython",
    "version": 3
   },
   "file_extension": ".py",
   "mimetype": "text/x-python",
   "name": "python",
   "nbconvert_exporter": "python",
   "pygments_lexer": "ipython3",
   "version": "3.9.12"
  }
 },
 "nbformat": 4,
 "nbformat_minor": 5
}
