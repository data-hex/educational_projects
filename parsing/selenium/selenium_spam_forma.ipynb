{
 "cells": [
  {
   "cell_type": "markdown",
   "id": "ba6e7344",
   "metadata": {},
   "source": [
    "task https://stepik.org/lesson/709437/step/7?thread=solutions&unit=710000"
   ]
  },
  {
   "cell_type": "code",
   "execution_count": 9,
   "id": "56d67033",
   "metadata": {},
   "outputs": [
    {
     "name": "stdout",
     "output_type": "stream",
     "text": [
      "1123581321345589144233377610987\n"
     ]
    }
   ],
   "source": [
    "import time\n",
    "from selenium import webdriver\n",
    "from selenium.webdriver.common.by import By\n",
    "\n",
    "spisok = ['Лола', \"Киберсиси\", \"Олеговна\", \"23\", \"Мухосранск\", \"devilkibersisi@mail.ru\"]\n",
    "\n",
    "with webdriver.Chrome() as browser:\n",
    "    browser.get('https://stepik-parsing.ru/selenium/1/1.html')\n",
    "    input_form = browser.find_elements(By.CLASS_NAME, 'form')\n",
    "    for i in range(len(input_form)):\n",
    "        input_form[i].send_keys(spisok[i])\n",
    "    browser.find_element(By.ID, 'btn').click()\n",
    "    time.sleep(3)\n",
    "    print(browser.find_element(By.ID, 'result').text)"
   ]
  }
 ],
 "metadata": {
  "kernelspec": {
   "display_name": "Python 3 (ipykernel)",
   "language": "python",
   "name": "python3"
  },
  "language_info": {
   "codemirror_mode": {
    "name": "ipython",
    "version": 3
   },
   "file_extension": ".py",
   "mimetype": "text/x-python",
   "name": "python",
   "nbconvert_exporter": "python",
   "pygments_lexer": "ipython3",
   "version": "3.9.12"
  }
 },
 "nbformat": 4,
 "nbformat_minor": 5
}
