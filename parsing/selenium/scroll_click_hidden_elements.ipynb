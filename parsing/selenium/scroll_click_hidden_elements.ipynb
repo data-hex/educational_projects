{
 "cells": [
  {
   "cell_type": "markdown",
   "id": "3b86c142",
   "metadata": {},
   "source": [
    "task https://stepik.org/lesson/715954/step/4?unit=716748"
   ]
  },
  {
   "cell_type": "code",
   "execution_count": 10,
   "id": "676a99c3",
   "metadata": {},
   "outputs": [
    {
     "name": "stdout",
     "output_type": "stream",
     "text": [
      "4479945576993\n"
     ]
    }
   ],
   "source": [
    "from selenium import webdriver\n",
    "from selenium.webdriver.common.by import By\n",
    "\n",
    "set_values = set()\n",
    "with webdriver.Chrome() as browser:\n",
    "    browser.get('https://parsinger.ru/scroll/4/index.html')\n",
    "    buttons = browser.find_elements(By.CLASS_NAME, 'btn')\n",
    "    \n",
    "    for i in buttons:\n",
    "        browser.execute_script(\"return arguments[0].scrollIntoView(true);\", i) #target on element\n",
    "        i.click()\n",
    "        set_values.add(int(browser.find_element(By.ID, 'result').text))\n",
    "    print(sum(list(set_values)))\n",
    "        "
   ]
  },
  {
   "cell_type": "code",
   "execution_count": null,
   "id": "730c7c45",
   "metadata": {},
   "outputs": [],
   "source": []
  }
 ],
 "metadata": {
  "kernelspec": {
   "display_name": "Python 3 (ipykernel)",
   "language": "python",
   "name": "python3"
  },
  "language_info": {
   "codemirror_mode": {
    "name": "ipython",
    "version": 3
   },
   "file_extension": ".py",
   "mimetype": "text/x-python",
   "name": "python",
   "nbconvert_exporter": "python",
   "pygments_lexer": "ipython3",
   "version": "3.9.12"
  }
 },
 "nbformat": 4,
 "nbformat_minor": 5
}
