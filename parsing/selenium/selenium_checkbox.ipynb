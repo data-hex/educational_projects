{
 "cells": [
  {
   "cell_type": "markdown",
   "id": "ae1b1dea",
   "metadata": {},
   "source": [
    "task https://stepik.org/lesson/709437/step/11?unit=710000"
   ]
  },
  {
   "cell_type": "code",
   "execution_count": 7,
   "id": "431f82e0",
   "metadata": {},
   "outputs": [
    {
     "name": "stdout",
     "output_type": "stream",
     "text": [
      "3,1415926535897932384626433832795028841971\n"
     ]
    }
   ],
   "source": [
    "from selenium import webdriver\n",
    "from selenium.webdriver.common.by import By\n",
    "import time\n",
    "\n",
    "with webdriver.Chrome() as browser:\n",
    "    browser.get('https://parsinger.ru/selenium/4/4.html')\n",
    "    input_add = browser.find_elements(By.CLASS_NAME, 'check')\n",
    "    for i in input_add:\n",
    "        i.click()    \n",
    "    browser.find_element(By.CLASS_NAME, 'btn').click()\n",
    "    time.sleep(3)\n",
    "    print(browser.find_element(By.ID, 'result').text)"
   ]
  },
  {
   "cell_type": "code",
   "execution_count": null,
   "id": "e1c9616f",
   "metadata": {},
   "outputs": [],
   "source": []
  }
 ],
 "metadata": {
  "kernelspec": {
   "display_name": "Python 3 (ipykernel)",
   "language": "python",
   "name": "python3"
  },
  "language_info": {
   "codemirror_mode": {
    "name": "ipython",
    "version": 3
   },
   "file_extension": ".py",
   "mimetype": "text/x-python",
   "name": "python",
   "nbconvert_exporter": "python",
   "pygments_lexer": "ipython3",
   "version": "3.9.12"
  }
 },
 "nbformat": 4,
 "nbformat_minor": 5
}
