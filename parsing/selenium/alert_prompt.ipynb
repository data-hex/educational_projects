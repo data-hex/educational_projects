{
 "cells": [
  {
   "cell_type": "markdown",
   "id": "188edae5",
   "metadata": {},
   "source": [
    "https://stepik.org/lesson/720527/step/3?unit=721524"
   ]
  },
  {
   "cell_type": "code",
   "execution_count": 2,
   "id": "3474627c",
   "metadata": {},
   "outputs": [
    {
     "name": "stdout",
     "output_type": "stream",
     "text": [
      "867413857416874163897546183542\n"
     ]
    }
   ],
   "source": [
    "import time\n",
    "from selenium import webdriver\n",
    "from selenium.webdriver.common.by import By\n",
    "\n",
    "with webdriver.Chrome() as browser:\n",
    "    browser.get('https://parsinger.ru/blank/modal/3/index.html')\n",
    "    buttons = browser.find_elements(By.CLASS_NAME, 'buttons')\n",
    "    for i in buttons:\n",
    "        i.click()\n",
    "        time.sleep(0.1)\n",
    "        alert = browser.switch_to.alert # Если вы планируете что-то делать с этим событием, можно добавить его в переменную\n",
    "        text = alert.text\n",
    "        time.sleep(0.1)\n",
    "        alert.accept()\n",
    "        inp = browser.find_element(By.ID, 'input')\n",
    "        inp.send_keys(text)\n",
    "        knopka = browser.find_element(By.ID, 'check')\n",
    "        knopka.click()\n",
    "        if browser.find_element(By.ID, \"result\").text.isdigit():\n",
    "            print(browser.find_element(By.ID, \"result\").text)"
   ]
  }
 ],
 "metadata": {
  "kernelspec": {
   "display_name": "Python 3 (ipykernel)",
   "language": "python",
   "name": "python3"
  },
  "language_info": {
   "codemirror_mode": {
    "name": "ipython",
    "version": 3
   },
   "file_extension": ".py",
   "mimetype": "text/x-python",
   "name": "python",
   "nbconvert_exporter": "python",
   "pygments_lexer": "ipython3",
   "version": "3.9.12"
  }
 },
 "nbformat": 4,
 "nbformat_minor": 5
}
