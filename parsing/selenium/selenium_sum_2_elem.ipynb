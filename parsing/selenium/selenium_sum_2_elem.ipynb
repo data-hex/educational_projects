{
 "cells": [
  {
   "cell_type": "markdown",
   "id": "82a08395",
   "metadata": {},
   "source": [
    "task https://stepik.org/lesson/709437/step/10?unit=710000"
   ]
  },
  {
   "cell_type": "code",
   "execution_count": 1,
   "id": "6cb0e379",
   "metadata": {},
   "outputs": [
    {
     "name": "stdout",
     "output_type": "stream",
     "text": [
      "149494128600\n"
     ]
    }
   ],
   "source": [
    "from selenium import webdriver\n",
    "from selenium.webdriver.common.by import By\n",
    "\n",
    "with webdriver.Chrome() as browser:\n",
    "    browser.get('https://stepik-parsing.ru/selenium/3/3.html')\n",
    "\n",
    "    result = [int(x.text) for x in browser.find_elements(By.XPATH, \"//div[@class='text']/p[2]\")]\n",
    "    print(sum(result))"
   ]
  }
 ],
 "metadata": {
  "kernelspec": {
   "display_name": "Python 3 (ipykernel)",
   "language": "python",
   "name": "python3"
  },
  "language_info": {
   "codemirror_mode": {
    "name": "ipython",
    "version": 3
   },
   "file_extension": ".py",
   "mimetype": "text/x-python",
   "name": "python",
   "nbconvert_exporter": "python",
   "pygments_lexer": "ipython3",
   "version": "3.9.12"
  }
 },
 "nbformat": 4,
 "nbformat_minor": 5
}
