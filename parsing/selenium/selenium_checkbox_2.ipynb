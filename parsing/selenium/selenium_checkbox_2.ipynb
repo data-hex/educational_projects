{
 "cells": [
  {
   "cell_type": "markdown",
   "id": "710d2954",
   "metadata": {},
   "source": [
    "task https://stepik.org/lesson/709437/step/12?unit=710000"
   ]
  },
  {
   "cell_type": "code",
   "execution_count": 3,
   "id": "a2882127",
   "metadata": {},
   "outputs": [
    {
     "name": "stdout",
     "output_type": "stream",
     "text": [
      "932169874631968746874987464354\n"
     ]
    }
   ],
   "source": [
    "from selenium import webdriver\n",
    "from selenium.webdriver.common.by import By\n",
    "\n",
    "numbers = [1, 2, 3, 4, 8, 9, 11, 12, 13, 14, 15, 16, 17, 22, 23, 28, 29, 33, 34, 38, \n",
    "39, 43, 44, 48, 49, 51, 52, 53, 54, 55, 56, 57, 58, 61, 62, 63, 64, 68, 69, 73, \n",
    "74, 78, 79, 83, 84, 88, 89, 91, 92, 97, 98, 101, 104, 108, 109, 113, 114, 118, \n",
    "119, 123, 124, 128, 129, 131, 132, 137, 138, 140, 141, 144, 145, 148, 149, 153, \n",
    "154, 158, 159, 163, 164, 165, 168, 169, 171, 172, 177, 178, 180, 181, 184, 185,\n",
    "187, 188, 189, 190, 192, 193, 194, 195, 197, 198, 199, 200, 204, 205, 206, 207, \n",
    "208, 209, 211, 212, 217, 218, 220, 221, 224, 225, 227, 228, 229, 230, 232, 233, \n",
    "234, 235, 237, 238, 239, 240, 245, 246, 247, 248, 249, 251, 252, 253, 254, 255, \n",
    "256, 257, 258, 260, 261, 264, 265, 268, 269, 273, 274, 278, 279, 288, 289, 291,\n",
    "292, 293, 294, 295, 296, 297, 300, 301, 302, 303, 304, 305, 308, 309, 313, 314, \n",
    "318, 319, 328, 329, 331, 332, 339, 340, 341, 342, 343, 344, 345, 346, 348, 349, \n",
    "353, 354, 358, 359, 368, 369, 371, 372, 379, 380, 385, 386, 408, 409, 411, 412, \n",
    "419, 420, 425, 426, 428, 429, 433, 434, 438, 439, 444, 445, 446, 447, 448, 451, \n",
    "452, 459, 460, 465, 466, 467, 468, 469, 470, 472, 473, 474, 475, 477, 478, 479, \n",
    "480, 485, 486, 487, 488, 491, 492, 499, 500, 505, 506, 508, 509, 513, 514, 518, 519]\n",
    "\n",
    "with webdriver.Chrome() as browser:\n",
    "    browser.get('https://parsinger.ru/selenium/5/5.html')\n",
    "    input_add = browser.find_elements(By.CLASS_NAME, 'check')\n",
    "    for i in input_add:\n",
    "        if int(i.get_attribute('value')) in numbers:\n",
    "            i.click()\n",
    "    browser.find_element(By.CLASS_NAME, 'btn').click()    \n",
    "    print(browser.find_element(By.ID, 'result').text)"
   ]
  },
  {
   "cell_type": "code",
   "execution_count": null,
   "id": "3d5ab5b8",
   "metadata": {},
   "outputs": [],
   "source": []
  }
 ],
 "metadata": {
  "kernelspec": {
   "display_name": "Python 3 (ipykernel)",
   "language": "python",
   "name": "python3"
  },
  "language_info": {
   "codemirror_mode": {
    "name": "ipython",
    "version": 3
   },
   "file_extension": ".py",
   "mimetype": "text/x-python",
   "name": "python",
   "nbconvert_exporter": "python",
   "pygments_lexer": "ipython3",
   "version": "3.9.12"
  }
 },
 "nbformat": 4,
 "nbformat_minor": 5
}
