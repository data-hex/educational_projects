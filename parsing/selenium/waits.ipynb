{
 "cells": [
  {
   "cell_type": "markdown",
   "id": "ad9dc143",
   "metadata": {},
   "source": [
    "task https://stepik.org/lesson/715955/step/4?unit=716749"
   ]
  },
  {
   "cell_type": "code",
   "execution_count": 1,
   "id": "6ca30767",
   "metadata": {},
   "outputs": [
    {
     "name": "stdout",
     "output_type": "stream",
     "text": [
      "82934401788.40141\n"
     ]
    }
   ],
   "source": [
    "from selenium import webdriver\n",
    "from selenium.webdriver.common.by import By\n",
    "from selenium.webdriver.support import expected_conditions as EC\n",
    "from selenium.webdriver.support.ui import WebDriverWait\n",
    "\n",
    "with webdriver.Chrome() as browser:\n",
    "    browser.get('https://parsinger.ru/expectations/3/index.html')\n",
    "    element = WebDriverWait(browser, 3).until(EC.element_to_be_clickable((By.ID, \"btn\"))).click()\n",
    "    while True:\n",
    "        title = browser.execute_script(\"return document.title;\")\n",
    "        if title == \"345FDG3245SFD\":\n",
    "            print(browser.find_element(By.ID, \"result\").text)\n",
    "            break\n",
    "        "
   ]
  }
 ],
 "metadata": {
  "kernelspec": {
   "display_name": "Python 3 (ipykernel)",
   "language": "python",
   "name": "python3"
  },
  "language_info": {
   "codemirror_mode": {
    "name": "ipython",
    "version": 3
   },
   "file_extension": ".py",
   "mimetype": "text/x-python",
   "name": "python",
   "nbconvert_exporter": "python",
   "pygments_lexer": "ipython3",
   "version": "3.9.12"
  }
 },
 "nbformat": 4,
 "nbformat_minor": 5
}
