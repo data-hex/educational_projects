{
 "cells": [
  {
   "cell_type": "code",
   "execution_count": 2,
   "id": "688c9ccb",
   "metadata": {},
   "outputs": [
    {
     "name": "stdout",
     "output_type": "stream",
     "text": [
      "HTTPConnectionPool(host='200.12.55.90', port=80): Max retries exceeded with url: http://httpbin.org/get (Caused by ConnectTimeoutError(<urllib3.connection.HTTPConnection object at 0x00000270124810D0>, 'Connection to 200.12.55.90 timed out. (connect timeout=1)'))\n",
      "1.0148753\n"
     ]
    }
   ],
   "source": [
    "import requests\n",
    "import time\n",
    "\n",
    "url = 'http://httpbin.org/get'\n",
    "\n",
    "#несуществующий ip\n",
    "proxies = {\n",
    "    'http': 'http://200.12.55.90:80',\n",
    "    'https': 'http://200.12.55.90:80'\n",
    "}\n",
    "start = time.perf_counter()\n",
    "try:\n",
    "    requests.get(url=url, proxies=proxies, timeout=1)\n",
    "except Exception as _ex:\n",
    "    print(_ex)\n",
    "    print(time.perf_counter()- start) #считаем время"
   ]
  },
  {
   "cell_type": "code",
   "execution_count": null,
   "id": "90917194",
   "metadata": {},
   "outputs": [],
   "source": []
  }
 ],
 "metadata": {
  "kernelspec": {
   "display_name": "Python 3 (ipykernel)",
   "language": "python",
   "name": "python3"
  },
  "language_info": {
   "codemirror_mode": {
    "name": "ipython",
    "version": 3
   },
   "file_extension": ".py",
   "mimetype": "text/x-python",
   "name": "python",
   "nbconvert_exporter": "python",
   "pygments_lexer": "ipython3",
   "version": "3.9.12"
  }
 },
 "nbformat": 4,
 "nbformat_minor": 5
}
