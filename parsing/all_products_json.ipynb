{
 "cells": [
  {
   "cell_type": "markdown",
   "id": "58e80f22",
   "metadata": {},
   "source": [
    "task https://stepik.org/lesson/701337/step/7?unit=701406"
   ]
  },
  {
   "cell_type": "code",
   "execution_count": 11,
   "id": "09e1ca09",
   "metadata": {},
   "outputs": [
    {
     "name": "stdout",
     "output_type": "stream",
     "text": [
      "Файл res10.json создан\n"
     ]
    }
   ],
   "source": [
    "import requests\n",
    "from bs4 import BeautifulSoup\n",
    "import json\n",
    "\n",
    "url = 'https://parsinger.ru/html/index1_page_1.html'\n",
    "site = 'http://parsinger.ru/html/'\n",
    "count = 0\n",
    "\n",
    "def get_response(url):\n",
    "    response = requests.get(url=url)\n",
    "    response.encoding = 'utf-8'  \n",
    "    return response\n",
    "\n",
    "def list_categories(response,site):\n",
    "    soup = BeautifulSoup(response.text, 'lxml')\n",
    "    categories = [f\"{site}{link['href']}\" for link in soup.find('div', class_='nav_menu').find_all('a')]    \n",
    "    return categories\n",
    "\n",
    "def cook_pagination(response,site):\n",
    "    soup = BeautifulSoup(response.text, 'lxml')\n",
    "    pages = [f\"{site}{link['href']}\" for link in soup.find('div', class_='pagen').find_all('a')]        \n",
    "    return pages\n",
    "\n",
    "\n",
    "def cook_products(url, response, name_cat):\n",
    "    soup = BeautifulSoup(response.text, 'lxml')\n",
    "    categories = name_cat\n",
    "    name = soup.find(\"p\", id='p_header' ).text\n",
    "    article = soup.find('p', class_='article').text.split()[1]\n",
    "    availability = soup.find(\"span\", id='in_stock').text    \n",
    "    price = soup.find('span', id='price').text\n",
    "    old_price = soup.find('span', id='old_price').text\n",
    "    \n",
    "    flat = categories, name, article, availability.split()[2], price, old_price, url\n",
    "    return flat\n",
    "\n",
    "for category in list_categories(get_response(url), site):\n",
    "    for page in cook_pagination(get_response(category),site):\n",
    "        response = get_response(page)\n",
    "        soup = BeautifulSoup(response.text, 'lxml') \n",
    "        result_json = []\n",
    "        name_category = soup.find('div', class_='nav_menu').find_all('div')\n",
    "        name_cat = [x['id'] for x in name_category]\n",
    "        url_products = [f\"{site}{link['href']}\" for link in soup.find_all('a', class_='name_item')]        \n",
    "        \n",
    "        for url_product in url_products:\n",
    "            response = get_response(url_product)\n",
    "            soup = BeautifulSoup(response.text, 'lxml')            \n",
    "            list_item = cook_products(url_product, get_response(url_product), name_cat[count])\n",
    "            li_id = [x['id'] for x in soup.find('ul', id='description').find_all('li')]\n",
    "            temp = [x.text for x in soup.find_all('li')]\n",
    "            description_value = [item.split(':', maxsplit=1)[1].strip() for item in temp]\n",
    "            dict_description = dict(zip(li_id, description_value))\n",
    "        \n",
    "            result_json.append({\n",
    "                'categories': [x.strip() for x in list_item][0],\n",
    "                'name': [x.strip() for x in list_item][1],\n",
    "                'article': [x.strip() for x in list_item][2],\n",
    "                'description': dict_description,\n",
    "                'count': [x.strip() for x in list_item][3],\n",
    "                'price': [x.strip() for x in list_item][4],\n",
    "                'old_price': [x.strip() for x in list_item][5],\n",
    "                'link': [x.strip() for x in list_item][6]\n",
    "                })\n",
    "        \n",
    "        with open('res10.json', 'a', encoding='utf-8') as file:\n",
    "            json.dump(result_json, file, indent=4, ensure_ascii=False)\n",
    "    count += 1\n",
    "\n",
    "print('Файл res10.json создан')\n",
    "\n"
   ]
  }
 ],
 "metadata": {
  "kernelspec": {
   "display_name": "Python 3 (ipykernel)",
   "language": "python",
   "name": "python3"
  },
  "language_info": {
   "codemirror_mode": {
    "name": "ipython",
    "version": 3
   },
   "file_extension": ".py",
   "mimetype": "text/x-python",
   "name": "python",
   "nbconvert_exporter": "python",
   "pygments_lexer": "ipython3",
   "version": "3.9.12"
  }
 },
 "nbformat": 4,
 "nbformat_minor": 5
}
