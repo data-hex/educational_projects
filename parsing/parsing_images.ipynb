{
 "cells": [
  {
   "cell_type": "markdown",
   "id": "0e7ec0db",
   "metadata": {},
   "source": [
    "task https://stepik.org/lesson/693007/step/4?unit=692617"
   ]
  },
  {
   "cell_type": "code",
   "execution_count": null,
   "id": "3e0bf5fe",
   "metadata": {},
   "outputs": [],
   "source": [
    "import requests\n",
    "\n",
    "for i in range(1,161):\n",
    "    url = f'https://parsinger.ru/img_download/img/ready/{i}.png'\n",
    "    response = requests.get(url=url)\n",
    "    with open(f'pictures/image{i}.png', 'wb') as file:\n",
    "        file.write(response.content)"
   ]
  },
  {
   "cell_type": "code",
   "execution_count": null,
   "id": "64915fb5",
   "metadata": {},
   "outputs": [],
   "source": []
  }
 ],
 "metadata": {
  "kernelspec": {
   "display_name": "Python 3 (ipykernel)",
   "language": "python",
   "name": "python3"
  },
  "language_info": {
   "codemirror_mode": {
    "name": "ipython",
    "version": 3
   },
   "file_extension": ".py",
   "mimetype": "text/x-python",
   "name": "python",
   "nbconvert_exporter": "python",
   "pygments_lexer": "ipython3",
   "version": "3.9.12"
  }
 },
 "nbformat": 4,
 "nbformat_minor": 5
}
