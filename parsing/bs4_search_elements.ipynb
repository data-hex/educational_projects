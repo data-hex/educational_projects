{
 "cells": [
  {
   "cell_type": "markdown",
   "id": "9de1b2a5",
   "metadata": {},
   "source": [
    "task https://stepik.org/lesson/700231/step/6?unit=700173"
   ]
  },
  {
   "cell_type": "code",
   "execution_count": 4,
   "id": "c500574e",
   "metadata": {},
   "outputs": [
    {
     "name": "stdout",
     "output_type": "stream",
     "text": [
      "[<p class=\"price\">2310 руб</p>, <p class=\"price\">5480 руб</p>, <p class=\"price\">21810 руб</p>, <p class=\"price\">21810 руб</p>, <p class=\"price\">27770 руб</p>, <p class=\"price\">27770 руб</p>, <p class=\"price\">24230 руб</p>, <p class=\"price\">32600 руб</p>]\n"
     ]
    }
   ],
   "source": [
    "from bs4 import BeautifulSoup\n",
    "import requests\n",
    "\n",
    "url = 'https://parsinger.ru/html/index1_page_1.html'\n",
    "response = requests.get(url=url)\n",
    "response.encoding = 'utf-8'\n",
    "soup = BeautifulSoup(response.text, 'lxml')\n",
    "div = soup.find_all('p', class_='price')\n",
    "print(div)"
   ]
  },
  {
   "cell_type": "code",
   "execution_count": 28,
   "id": "d0327deb",
   "metadata": {},
   "outputs": [
    {
     "name": "stdout",
     "output_type": "stream",
     "text": [
      "163780\n"
     ]
    }
   ],
   "source": [
    "s = 0\n",
    "for i in div:\n",
    "    for j in i:\n",
    "        s += int(j[:-4])\n",
    "print(s)"
   ]
  },
  {
   "cell_type": "code",
   "execution_count": null,
   "id": "45775d6a",
   "metadata": {},
   "outputs": [],
   "source": []
  },
  {
   "cell_type": "code",
   "execution_count": null,
   "id": "0c54950e",
   "metadata": {},
   "outputs": [],
   "source": []
  }
 ],
 "metadata": {
  "kernelspec": {
   "display_name": "Python 3 (ipykernel)",
   "language": "python",
   "name": "python3"
  },
  "language_info": {
   "codemirror_mode": {
    "name": "ipython",
    "version": 3
   },
   "file_extension": ".py",
   "mimetype": "text/x-python",
   "name": "python",
   "nbconvert_exporter": "python",
   "pygments_lexer": "ipython3",
   "version": "3.9.12"
  }
 },
 "nbformat": 4,
 "nbformat_minor": 5
}
