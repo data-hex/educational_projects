{
 "cells": [
  {
   "cell_type": "markdown",
   "id": "0e81686c",
   "metadata": {},
   "source": [
    "task https://stepik.org/lesson/701336/step/4?unit=701405"
   ]
  },
  {
   "cell_type": "code",
   "execution_count": 24,
   "id": "d5c3801d",
   "metadata": {},
   "outputs": [],
   "source": [
    "import csv\n",
    "import requests\n",
    "from bs4 import BeautifulSoup\n",
    "\n",
    "#create file\n",
    "with open('res.csv', 'w', encoding='utf-8-sig', newline='') as file:\n",
    "    writer = csv.writer(file, delimiter=';')\n",
    "    writer.writerow([\n",
    "        'Наименование', 'Цена', 'Бренд', 'Форм-фактор', 'Ёмкость', 'Объём буф.памяти'])    "
   ]
  },
  {
   "cell_type": "code",
   "execution_count": 25,
   "id": "5d683686",
   "metadata": {},
   "outputs": [],
   "source": [
    "url = 'https://parsinger.ru/html/index4_page_1.html'\n",
    "site = 'http://parsinger.ru/html/'\n",
    "\n",
    "def get_response(url):\n",
    "    response = requests.get(url=url)\n",
    "    response.encoding = 'utf-8'  \n",
    "    return response\n",
    "\n",
    "def cook_pagination(response,site):\n",
    "    soup = BeautifulSoup(response.text, 'lxml')\n",
    "    pages = [f\"{site}{link['href']}\" for link in soup.find('div', class_='pagen').find_all('a')]        \n",
    "    return pages\n"
   ]
  },
  {
   "cell_type": "code",
   "execution_count": 26,
   "id": "d90974d9",
   "metadata": {},
   "outputs": [
    {
     "name": "stdout",
     "output_type": "stream",
     "text": [
      "Файл res.csv создан\n"
     ]
    }
   ],
   "source": [
    "for i in cook_pagination(get_response(url),site):    \n",
    "    response = get_response(i)\n",
    "    soup = BeautifulSoup(response.text, 'lxml')\n",
    "    name = [x.text.strip() for x in soup.find_all('a', class_='name_item')]\n",
    "    description = [x.text.split('\\n') for x in soup.find_all('div', class_='description')]\n",
    "    price = [x.text for x in soup.find_all('p', class_='price')]\n",
    "    for item, price, descr in zip(name, price, description):\n",
    "        flatten = item, *[x.split(':')[1].strip() for x in descr if x], price\n",
    "\n",
    "        with open('res.csv', 'a', encoding='utf-8-sig', newline='') as file:\n",
    "            writer = csv.writer(file, delimiter=';')\n",
    "            writer.writerow(flatten)\n",
    "print('Файл res.csv создан')\n",
    "    "
   ]
  },
  {
   "cell_type": "code",
   "execution_count": null,
   "id": "aafcf4df",
   "metadata": {},
   "outputs": [],
   "source": []
  },
  {
   "cell_type": "code",
   "execution_count": null,
   "id": "40333a64",
   "metadata": {},
   "outputs": [],
   "source": []
  }
 ],
 "metadata": {
  "kernelspec": {
   "display_name": "Python 3 (ipykernel)",
   "language": "python",
   "name": "python3"
  },
  "language_info": {
   "codemirror_mode": {
    "name": "ipython",
    "version": 3
   },
   "file_extension": ".py",
   "mimetype": "text/x-python",
   "name": "python",
   "nbconvert_exporter": "python",
   "pygments_lexer": "ipython3",
   "version": "3.9.12"
  }
 },
 "nbformat": 4,
 "nbformat_minor": 5
}
