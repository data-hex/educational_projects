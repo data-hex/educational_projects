{
 "cells": [
  {
   "cell_type": "markdown",
   "id": "e201ce26",
   "metadata": {},
   "source": [
    "task https://stepik.org/lesson/701336/step/5?unit=701405"
   ]
  },
  {
   "cell_type": "code",
   "execution_count": 29,
   "id": "4b1ab766",
   "metadata": {},
   "outputs": [
    {
     "name": "stdout",
     "output_type": "stream",
     "text": [
      "Файл result.csv создан\n"
     ]
    }
   ],
   "source": [
    "import csv\n",
    "import requests\n",
    "from bs4 import BeautifulSoup\n",
    "\n",
    "url = 'https://parsinger.ru/html/index1_page_1.html'\n",
    "site = 'http://parsinger.ru/html/'\n",
    "\n",
    "def get_response(url):\n",
    "    response = requests.get(url=url)\n",
    "    response.encoding = 'utf-8'  \n",
    "    return response\n",
    "\n",
    "def cook_pagination(response,site):\n",
    "    soup = BeautifulSoup(response.text, 'lxml')\n",
    "    pages = [f\"{site}{link['href']}\" for link in soup.find('div', class_='pagen').find_all('a')]        \n",
    "    return pages\n",
    "\n",
    "def list_categories(response,site):\n",
    "    soup = BeautifulSoup(response.text, 'lxml')\n",
    "    categories = [f\"{site}{link['href']}\" for link in soup.find('div', class_='nav_menu').find_all('a')]    \n",
    "    return categories\n",
    "\n",
    "for category in list_categories(get_response(url), site):\n",
    "    uri = category\n",
    "    for i in cook_pagination(get_response(uri),site):    \n",
    "        response = get_response(i)\n",
    "        soup = BeautifulSoup(response.text, 'lxml')\n",
    "        name = [x.text.strip() for x in soup.find_all('a', class_='name_item')]\n",
    "        description = [x.text.split('\\n') for x in soup.find_all('div', class_='description')]\n",
    "        price = [x.text for x in soup.find_all('p', class_='price')]\n",
    "        for item, price, descr in zip(name, price, description):\n",
    "            flatten = item, *[x.split(':')[1].strip() for x in descr if x], price\n",
    "\n",
    "            with open('result.csv', 'a', encoding='utf-8-sig', newline='') as file:\n",
    "                writer = csv.writer(file, delimiter=';')\n",
    "                writer.writerow(flatten)\n",
    "print('Файл result.csv создан')"
   ]
  }
 ],
 "metadata": {
  "kernelspec": {
   "display_name": "Python 3 (ipykernel)",
   "language": "python",
   "name": "python3"
  },
  "language_info": {
   "codemirror_mode": {
    "name": "ipython",
    "version": 3
   },
   "file_extension": ".py",
   "mimetype": "text/x-python",
   "name": "python",
   "nbconvert_exporter": "python",
   "pygments_lexer": "ipython3",
   "version": "3.9.12"
  }
 },
 "nbformat": 4,
 "nbformat_minor": 5
}
