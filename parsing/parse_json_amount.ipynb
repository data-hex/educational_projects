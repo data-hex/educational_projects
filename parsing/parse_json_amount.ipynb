{
 "cells": [
  {
   "cell_type": "markdown",
   "id": "db49beff",
   "metadata": {},
   "source": [
    "task https://stepik.org/lesson/704700/step/4?unit=705135"
   ]
  },
  {
   "cell_type": "code",
   "execution_count": 3,
   "id": "ad28b4f3",
   "metadata": {},
   "outputs": [
    {
     "name": "stdout",
     "output_type": "stream",
     "text": [
      "{'watch': 12143140, 'mobile': 2390480, 'mouse': 2713625, 'hdd': 25673970, 'headphones': 2145980}\n"
     ]
    }
   ],
   "source": [
    "import requests\n",
    "import json\n",
    "\n",
    "url = 'https://parsinger.ru/downloads/get_json/res.json'\n",
    "\n",
    "response = requests.get(url).json()\n",
    "dict_values = {}\n",
    "\n",
    "\n",
    "for i in response:\n",
    "    dict_values[i['categories']] = dict_values.get(i['categories'], 0) + int(i['price'].split()[0])*int(i['count'])\n",
    "print(dict_values)"
   ]
  }
 ],
 "metadata": {
  "kernelspec": {
   "display_name": "Python 3 (ipykernel)",
   "language": "python",
   "name": "python3"
  },
  "language_info": {
   "codemirror_mode": {
    "name": "ipython",
    "version": 3
   },
   "file_extension": ".py",
   "mimetype": "text/x-python",
   "name": "python",
   "nbconvert_exporter": "python",
   "pygments_lexer": "ipython3",
   "version": "3.9.12"
  }
 },
 "nbformat": 4,
 "nbformat_minor": 5
}
