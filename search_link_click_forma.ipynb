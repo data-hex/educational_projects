{
 "cells": [
  {
   "cell_type": "markdown",
   "id": "f93dd160",
   "metadata": {},
   "source": [
    "task https://stepik.org/lesson/138920/step/5?unit=196194"
   ]
  },
  {
   "cell_type": "code",
   "execution_count": 3,
   "id": "6f03df13",
   "metadata": {},
   "outputs": [],
   "source": [
    "from selenium import webdriver\n",
    "from selenium.webdriver.common.by import By\n",
    "import time \n",
    "import math\n",
    "url = 'http://suninjuly.github.io/find_link_text'\n",
    "\n",
    "with webdriver.Chrome() as browser:\n",
    "    browser.get(url)\n",
    "    urltext = str(math.ceil(math.pow(math.pi, math.e)*10000))\n",
    "    link = browser.find_element(By.LINK_TEXT, urltext)\n",
    "    link.click()    \n",
    "    input1 = browser.find_element(By.TAG_NAME, \"input\")\n",
    "    input1.send_keys(\"Ivan\")\n",
    "    input2 = browser.find_element(By.NAME, \"last_name\")\n",
    "    input2.send_keys(\"Petrov\")\n",
    "    input3 = browser.find_element(By.CLASS_NAME, \"city\")\n",
    "    input3.send_keys(\"Smolensk\")\n",
    "    input4 = browser.find_element(By.ID, \"country\")\n",
    "    input4.send_keys(\"Russia\")\n",
    "    button = browser.find_element(By.CSS_SELECTOR, \"button.btn\")\n",
    "    button.click()\n",
    "    time.sleep(30)"
   ]
  }
 ],
 "metadata": {
  "kernelspec": {
   "display_name": "Python 3 (ipykernel)",
   "language": "python",
   "name": "python3"
  },
  "language_info": {
   "codemirror_mode": {
    "name": "ipython",
    "version": 3
   },
   "file_extension": ".py",
   "mimetype": "text/x-python",
   "name": "python",
   "nbconvert_exporter": "python",
   "pygments_lexer": "ipython3",
   "version": "3.9.12"
  }
 },
 "nbformat": 4,
 "nbformat_minor": 5
}
