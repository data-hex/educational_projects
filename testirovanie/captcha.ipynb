{
 "cells": [
  {
   "cell_type": "markdown",
   "id": "fc38e647",
   "metadata": {},
   "source": [
    "task https://stepik.org/lesson/165493/step/5?unit=140087"
   ]
  },
  {
   "cell_type": "code",
   "execution_count": 4,
   "id": "af3c5a6a",
   "metadata": {},
   "outputs": [],
   "source": [
    "from selenium import webdriver\n",
    "from selenium.webdriver.common.by import By\n",
    "import time\n",
    "import math\n",
    "\n",
    "def calc(x):\n",
    "    return str(math.log(abs(12*math.sin(int(x)))))\n",
    "\n",
    "with webdriver.Chrome() as browser:\n",
    "    browser.get('https://suninjuly.github.io/math.html')\n",
    "    x = browser.find_element(By.ID, 'input_value').text\n",
    "    time.sleep(0.5)\n",
    "    y = calc(x)\n",
    "    time.sleep(0.5)\n",
    "    answer = browser.find_element(By.ID, 'answer')\n",
    "    answer.send_keys(y)\n",
    "    time.sleep(0.5)\n",
    "    browser.find_element(By.ID, 'robotCheckbox').click()\n",
    "    time.sleep(0.5)\n",
    "    browser.find_element(By.ID, 'robotsRule').click()\n",
    "    time.sleep(0.5)\n",
    "    browser.find_element(By.CSS_SELECTOR, '.btn.btn-default').click()\n",
    "    time.sleep(10)\n",
    "    \n",
    "    \n",
    "    "
   ]
  }
 ],
 "metadata": {
  "kernelspec": {
   "display_name": "Python 3 (ipykernel)",
   "language": "python",
   "name": "python3"
  },
  "language_info": {
   "codemirror_mode": {
    "name": "ipython",
    "version": 3
   },
   "file_extension": ".py",
   "mimetype": "text/x-python",
   "name": "python",
   "nbconvert_exporter": "python",
   "pygments_lexer": "ipython3",
   "version": "3.9.12"
  }
 },
 "nbformat": 4,
 "nbformat_minor": 5
}
