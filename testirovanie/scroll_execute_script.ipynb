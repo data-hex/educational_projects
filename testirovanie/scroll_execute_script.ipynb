{
 "cells": [
  {
   "cell_type": "markdown",
   "id": "181f32a1",
   "metadata": {},
   "source": [
    "task https://stepik.org/lesson/228249/step/6?unit=200781"
   ]
  },
  {
   "cell_type": "code",
   "execution_count": 21,
   "id": "9e67808e",
   "metadata": {},
   "outputs": [],
   "source": [
    "from selenium import webdriver\n",
    "from selenium.webdriver.common.by import By\n",
    "import time\n",
    "import math\n",
    "\n",
    "def calc(x):\n",
    "    return str(math.log(abs(12*math.sin(int(x)))))\n",
    "\n",
    "with webdriver.Chrome() as browser:\n",
    "    browser.get('http://suninjuly.github.io/execute_script.html')\n",
    "    x = browser.find_element(By.ID, 'input_value').text    \n",
    "    y = calc(x)    \n",
    "    answer = browser.find_element(By.ID, 'answer')\n",
    "    answer.send_keys(y)\n",
    "    time.sleep(0.5)   \n",
    "    check = browser.find_element(By.ID, 'robotCheckbox')\n",
    "    browser.execute_script(\"return arguments[0].scrollIntoView(true);\", check)\n",
    "    check.click()\n",
    "    time.sleep(0.5)\n",
    "    browser.find_element(By.ID, 'robotsRule').click()\n",
    "    time.sleep(0.5)\n",
    "    button = browser.find_element(By.CSS_SELECTOR, \".btn.btn-primary\")    \n",
    "    button.click()\n",
    "    time.sleep(5)"
   ]
  }
 ],
 "metadata": {
  "kernelspec": {
   "display_name": "Python 3 (ipykernel)",
   "language": "python",
   "name": "python3"
  },
  "language_info": {
   "codemirror_mode": {
    "name": "ipython",
    "version": 3
   },
   "file_extension": ".py",
   "mimetype": "text/x-python",
   "name": "python",
   "nbconvert_exporter": "python",
   "pygments_lexer": "ipython3",
   "version": "3.9.12"
  }
 },
 "nbformat": 4,
 "nbformat_minor": 5
}
