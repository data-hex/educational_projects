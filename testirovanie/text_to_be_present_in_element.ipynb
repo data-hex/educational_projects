{
 "cells": [
  {
   "cell_type": "markdown",
   "id": "9c2b0c35",
   "metadata": {},
   "source": [
    "task https://stepik.org/lesson/181384/step/8?unit=156009"
   ]
  },
  {
   "cell_type": "code",
   "execution_count": 3,
   "id": "2f64b01d",
   "metadata": {},
   "outputs": [
    {
     "name": "stdout",
     "output_type": "stream",
     "text": [
      "29.018845548212315\n"
     ]
    }
   ],
   "source": [
    "from selenium.webdriver.common.by import By\n",
    "from selenium.webdriver.support.ui import WebDriverWait\n",
    "from selenium.webdriver.support import expected_conditions as EC\n",
    "from selenium import webdriver\n",
    "import time\n",
    "import math\n",
    "\n",
    "\n",
    "def calc(x):\n",
    "    return str(math.log(abs(12*math.sin(int(x)))))\n",
    "\n",
    "with webdriver.Chrome() as browser:    \n",
    "    browser.get('http://suninjuly.github.io/explicit_wait2.html')\n",
    "    WebDriverWait(browser, 12).until(\n",
    "        EC.text_to_be_present_in_element((By.ID, \"price\"), \"$100\")\n",
    "    )\n",
    "    \n",
    "    browser.find_element(By.CSS_SELECTOR, \".btn.btn-primary\").click()\n",
    "    x = browser.find_element(By.ID, \"input_value\").text\n",
    "    time.sleep(0.2)\n",
    "    y = calc(x)\n",
    "    time.sleep(0.2)\n",
    "    answer = browser.find_element(By.ID, \"answer\")\n",
    "    answer.send_keys(y)\n",
    "    time.sleep(0.2)\n",
    "    browser.find_element(By.CSS_SELECTOR, \"form .btn.btn-primary\").click()\n",
    "    time.sleep(1)\n",
    "    result = browser.switch_to.alert\n",
    "    print(result.text.split(':')[1].strip())\n",
    "\n"
   ]
  }
 ],
 "metadata": {
  "kernelspec": {
   "display_name": "Python 3 (ipykernel)",
   "language": "python",
   "name": "python3"
  },
  "language_info": {
   "codemirror_mode": {
    "name": "ipython",
    "version": 3
   },
   "file_extension": ".py",
   "mimetype": "text/x-python",
   "name": "python",
   "nbconvert_exporter": "python",
   "pygments_lexer": "ipython3",
   "version": "3.9.12"
  }
 },
 "nbformat": 4,
 "nbformat_minor": 5
}
