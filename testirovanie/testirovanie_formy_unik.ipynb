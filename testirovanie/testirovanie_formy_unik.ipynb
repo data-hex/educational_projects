{
 "cells": [
  {
   "cell_type": "code",
   "execution_count": 10,
   "id": "1f0cd13e",
   "metadata": {},
   "outputs": [],
   "source": [
    "from selenium import webdriver\n",
    "from selenium.webdriver.common.by import By\n",
    "import time\n",
    "\n",
    "try: \n",
    "    link = \"http://suninjuly.github.io/registration2.html\"\n",
    "    browser = webdriver.Chrome()\n",
    "    browser.get(link)\n",
    "\n",
    "    # Ваш код, который заполняет обязательные поля\n",
    "    input_name = browser.find_element(By.CSS_SELECTOR, \".first_block .first\")\n",
    "    input_name.send_keys(\"Ivan\")\n",
    "    \n",
    "    time.sleep(0.5)\n",
    "    \n",
    "    input_lastname = browser.find_element(By.CSS_SELECTOR, \".first_block .second\")\n",
    "    input_lastname.send_keys(\"Ivanov\")\n",
    "    \n",
    "    time.sleep(0.5)\n",
    "    \n",
    "    input_email = browser.find_element(By.CSS_SELECTOR, \".first_block .third\")\n",
    "    input_email.send_keys(\"Ivanov@mail.ru\")    \n",
    "    \n",
    "    time.sleep(0.5)\n",
    "    \n",
    "\n",
    "    # Отправляем заполненную форму\n",
    "    button = browser.find_element(By.CSS_SELECTOR, \"button.btn\")\n",
    "    button.click()\n",
    "\n",
    "    # Проверяем, что смогли зарегистрироваться\n",
    "    # ждем загрузки страницы\n",
    "    time.sleep(1)\n",
    "\n",
    "    # находим элемент, содержащий текст\n",
    "    welcome_text_elt = browser.find_element(By.TAG_NAME, \"h1\")\n",
    "    # записываем в переменную welcome_text текст из элемента welcome_text_elt\n",
    "    welcome_text = welcome_text_elt.text\n",
    "\n",
    "    # с помощью assert проверяем, что ожидаемый текст совпадает с текстом на странице сайта\n",
    "    assert \"Congratulations! You have successfully registered!\" == welcome_text\n",
    "\n",
    "finally:\n",
    "    # ожидание чтобы визуально оценить результаты прохождения скрипта\n",
    "    time.sleep(10)\n",
    "    # закрываем браузер после всех манипуляций\n",
    "    browser.quit()"
   ]
  },
  {
   "cell_type": "code",
   "execution_count": null,
   "id": "91fda0a5",
   "metadata": {},
   "outputs": [],
   "source": []
  }
 ],
 "metadata": {
  "kernelspec": {
   "display_name": "Python 3 (ipykernel)",
   "language": "python",
   "name": "python3"
  },
  "language_info": {
   "codemirror_mode": {
    "name": "ipython",
    "version": 3
   },
   "file_extension": ".py",
   "mimetype": "text/x-python",
   "name": "python",
   "nbconvert_exporter": "python",
   "pygments_lexer": "ipython3",
   "version": "3.9.12"
  }
 },
 "nbformat": 4,
 "nbformat_minor": 5
}
