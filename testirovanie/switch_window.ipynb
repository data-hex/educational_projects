{
 "cells": [
  {
   "cell_type": "code",
   "execution_count": 8,
   "id": "3674eef8",
   "metadata": {},
   "outputs": [
    {
     "name": "stdout",
     "output_type": "stream",
     "text": [
      "28.975555941111043\n"
     ]
    }
   ],
   "source": [
    "import time\n",
    "from selenium import webdriver\n",
    "from selenium.webdriver.common.by import By\n",
    "import math\n",
    "\n",
    "def calc(x):\n",
    "    return str(math.log(abs(12*math.sin(int(x)))))\n",
    "\n",
    "with webdriver.Chrome() as browser:    \n",
    "    browser.get('http://suninjuly.github.io/redirect_accept.html')\n",
    "    browser.find_element(By.CSS_SELECTOR, \".trollface.btn.btn-primary\").click()    \n",
    "    new_window = browser.window_handles[1]\n",
    "    browser.switch_to.window(new_window)\n",
    "    time.sleep(1)    \n",
    "    x = browser.find_element(By.ID, \"input_value\").text\n",
    "    time.sleep(0.2)\n",
    "    y = calc(x)\n",
    "    time.sleep(0.2)\n",
    "    answer = browser.find_element(By.ID, \"answer\")\n",
    "    answer.send_keys(y)\n",
    "    time.sleep(0.5)\n",
    "    browser.find_element(By.CSS_SELECTOR, \".btn.btn-primary\").click()\n",
    "    time.sleep(3)\n",
    "    result = browser.switch_to.alert\n",
    "    print(result.text.split(':')[1].strip())\n",
    "    "
   ]
  },
  {
   "cell_type": "code",
   "execution_count": null,
   "id": "532887fb",
   "metadata": {},
   "outputs": [],
   "source": []
  }
 ],
 "metadata": {
  "kernelspec": {
   "display_name": "Python 3 (ipykernel)",
   "language": "python",
   "name": "python3"
  },
  "language_info": {
   "codemirror_mode": {
    "name": "ipython",
    "version": 3
   },
   "file_extension": ".py",
   "mimetype": "text/x-python",
   "name": "python",
   "nbconvert_exporter": "python",
   "pygments_lexer": "ipython3",
   "version": "3.9.12"
  }
 },
 "nbformat": 4,
 "nbformat_minor": 5
}
