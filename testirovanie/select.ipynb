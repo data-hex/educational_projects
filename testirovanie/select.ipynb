{
 "cells": [
  {
   "cell_type": "markdown",
   "id": "04e7b50f",
   "metadata": {},
   "source": [
    "TASK https://stepik.org/lesson/228249/step/3?unit=200781"
   ]
  },
  {
   "cell_type": "code",
   "execution_count": 16,
   "id": "03746611",
   "metadata": {},
   "outputs": [
    {
     "name": "stdout",
     "output_type": "stream",
     "text": [
      "28\n",
      "20\n"
     ]
    }
   ],
   "source": [
    "from selenium import webdriver\n",
    "from selenium.webdriver.common.by import By\n",
    "import time\n",
    "from selenium.webdriver.support.ui import Select\n",
    "\n",
    "with webdriver.Chrome() as browser:\n",
    "    browser.get('http://suninjuly.github.io/selects1.html')\n",
    "    x1 = browser.find_element(By.ID, 'num1').text    \n",
    "    time.sleep(0.5)\n",
    "    x2 = browser.find_element(By.ID, 'num2').text\n",
    "    time.sleep(0.5)    \n",
    "    y = str(int(x1) + int(x2))\n",
    "    time.sleep(0.5)\n",
    "    select = Select(browser.find_element(By.TAG_NAME, \"select\"))\n",
    "    select.select_by_value(y)\n",
    "    time.sleep(0.5)\n",
    "    btn =  browser.find_element(By.CSS_SELECTOR, '.btn.btn-default')\n",
    "    btn.click()\n",
    "    time.sleep(5)\n",
    "    "
   ]
  }
 ],
 "metadata": {
  "kernelspec": {
   "display_name": "Python 3 (ipykernel)",
   "language": "python",
   "name": "python3"
  },
  "language_info": {
   "codemirror_mode": {
    "name": "ipython",
    "version": 3
   },
   "file_extension": ".py",
   "mimetype": "text/x-python",
   "name": "python",
   "nbconvert_exporter": "python",
   "pygments_lexer": "ipython3",
   "version": "3.9.12"
  }
 },
 "nbformat": 4,
 "nbformat_minor": 5
}
