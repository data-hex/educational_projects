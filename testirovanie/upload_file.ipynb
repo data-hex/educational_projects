{
 "cells": [
  {
   "cell_type": "markdown",
   "id": "2ecc6bc1",
   "metadata": {},
   "source": [
    "task https://stepik.org/lesson/228249/step/8?unit=200781"
   ]
  },
  {
   "cell_type": "code",
   "execution_count": 4,
   "id": "fe76bfff",
   "metadata": {},
   "outputs": [],
   "source": [
    "import os\n",
    "from selenium import webdriver\n",
    "from selenium.webdriver.common.by import By\n",
    "import time\n",
    "\n",
    "link = \"http://suninjuly.github.io/file_input.html\"\n",
    "\n",
    "\n",
    "with webdriver.Chrome() as browser:\n",
    "    browser.get(link)\n",
    "    \n",
    "    input1 = browser.find_element(By.NAME, \"firstname\")\n",
    "    input1.send_keys(\"Ivan\")\n",
    "    time.sleep(0.5)\n",
    "    input2 = browser.find_element(By.NAME, \"lastname\")\n",
    "    input2.send_keys(\"Petrov\")\n",
    "    time.sleep(0.5)\n",
    "    input3 = browser.find_element(By.NAME, \"email\")\n",
    "    input3.send_keys(\"petrov@mail.ru\")\n",
    "    time.sleep(0.5)\n",
    "\n",
    "\n",
    "    current_dir = os.path.abspath(os.path.dirname(\"__file__\"))   \n",
    "    file_name = \"devil.txt\"\n",
    "    file_path = os.path.join(current_dir, file_name)\n",
    "    element = browser.find_element(By.CSS_SELECTOR, \"[type='file']\")\n",
    "    element.send_keys(file_path)\n",
    "    time.sleep(0.5)\n",
    "    button = browser.find_element(By.CSS_SELECTOR, \".btn.btn-primary\")\n",
    "    button.click()\n",
    "    time.sleep(5)"
   ]
  }
 ],
 "metadata": {
  "kernelspec": {
   "display_name": "Python 3 (ipykernel)",
   "language": "python",
   "name": "python3"
  },
  "language_info": {
   "codemirror_mode": {
    "name": "ipython",
    "version": 3
   },
   "file_extension": ".py",
   "mimetype": "text/x-python",
   "name": "python",
   "nbconvert_exporter": "python",
   "pygments_lexer": "ipython3",
   "version": "3.9.12"
  }
 },
 "nbformat": 4,
 "nbformat_minor": 5
}
