{
 "cells": [
  {
   "cell_type": "code",
   "execution_count": 11,
   "id": "7c9b6ce9",
   "metadata": {},
   "outputs": [
    {
     "name": "stdout",
     "output_type": "stream",
     "text": [
      "8 11\n",
      "expected 8, got 11\n"
     ]
    }
   ],
   "source": [
    "def test_input_text(expected_result, actual_result):\n",
    "    try:\n",
    "        assert expected_result == actual_result, f\"expected {expected_result}, got {actual_result}\"\n",
    "    except AssertionError:\n",
    "        print(f\"expected {expected_result}, got {actual_result}\")\n",
    "    \n",
    "\n",
    "x,y = map(int, input().split())\n",
    "test_input_text(x,y)"
   ]
  },
  {
   "cell_type": "code",
   "execution_count": null,
   "id": "82d73149",
   "metadata": {},
   "outputs": [],
   "source": []
  },
  {
   "cell_type": "code",
   "execution_count": null,
   "id": "b701b9b2",
   "metadata": {},
   "outputs": [],
   "source": []
  }
 ],
 "metadata": {
  "kernelspec": {
   "display_name": "Python 3 (ipykernel)",
   "language": "python",
   "name": "python3"
  },
  "language_info": {
   "codemirror_mode": {
    "name": "ipython",
    "version": 3
   },
   "file_extension": ".py",
   "mimetype": "text/x-python",
   "name": "python",
   "nbconvert_exporter": "python",
   "pygments_lexer": "ipython3",
   "version": "3.9.12"
  }
 },
 "nbformat": 4,
 "nbformat_minor": 5
}
