{
 "cells": [
  {
   "cell_type": "markdown",
   "id": "75f8f2bc",
   "metadata": {},
   "source": [
    "task https://stepik.org/lesson/184253/step/4?unit=158843"
   ]
  },
  {
   "cell_type": "code",
   "execution_count": 7,
   "id": "4ca4c821",
   "metadata": {},
   "outputs": [
    {
     "name": "stdout",
     "output_type": "stream",
     "text": [
      "28.974687504731556\n"
     ]
    }
   ],
   "source": [
    "import time\n",
    "from selenium import webdriver\n",
    "from selenium.webdriver.common.by import By\n",
    "import math\n",
    "\n",
    "def calc(x):\n",
    "    return str(math.log(abs(12*math.sin(int(x)))))\n",
    "\n",
    "with webdriver.Chrome() as browser:\n",
    "    browser.get('http://suninjuly.github.io/alert_accept.html')\n",
    "    browser.find_element(By.CSS_SELECTOR, \".btn.btn-primary\").click()\n",
    "    time.sleep(0.3)\n",
    "    confirm = browser.switch_to.alert\n",
    "    time.sleep(0.5)\n",
    "    confirm.accept()\n",
    "    time.sleep(0.5)    \n",
    "    x = browser.find_element(By.ID, \"input_value\").text\n",
    "    y = calc(x)\n",
    "    answer = browser.find_element(By.ID, \"answer\")\n",
    "    answer.send_keys(y)\n",
    "    time.sleep(0.5)\n",
    "    browser.find_element(By.CSS_SELECTOR, \".btn.btn-primary\").click()\n",
    "    time.sleep(3)\n",
    "    result = browser.switch_to.alert\n",
    "    print(result.text.split(':')[1].strip())\n",
    "    \n"
   ]
  },
  {
   "cell_type": "code",
   "execution_count": null,
   "id": "634a50a9",
   "metadata": {},
   "outputs": [],
   "source": []
  }
 ],
 "metadata": {
  "kernelspec": {
   "display_name": "Python 3 (ipykernel)",
   "language": "python",
   "name": "python3"
  },
  "language_info": {
   "codemirror_mode": {
    "name": "ipython",
    "version": 3
   },
   "file_extension": ".py",
   "mimetype": "text/x-python",
   "name": "python",
   "nbconvert_exporter": "python",
   "pygments_lexer": "ipython3",
   "version": "3.9.12"
  }
 },
 "nbformat": 4,
 "nbformat_minor": 5
}
