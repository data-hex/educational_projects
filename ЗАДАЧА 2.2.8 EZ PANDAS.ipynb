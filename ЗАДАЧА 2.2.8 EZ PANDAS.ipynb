{
 "cells": [
  {
   "cell_type": "code",
   "execution_count": 2,
   "id": "c5c950eb",
   "metadata": {},
   "outputs": [
    {
     "name": "stdout",
     "output_type": "stream",
     "text": [
      "3\n",
      "module_name Pandas SciKitLearn SeaBorn NumPy\n",
      "version 1.3.5 1.0 0.11.2 1.23.dev0 \n",
      "python 3.7 3.7 3.7 3.7\n",
      "   module_name    version python\n",
      "0       Pandas      1.3.5    3.7\n",
      "1  SciKitLearn        1.0    3.7\n",
      "2      SeaBorn     0.11.2    3.7\n",
      "3        NumPy  1.23.dev0    3.7\n",
      "Pandas 0.11.2 3.7\n"
     ]
    }
   ],
   "source": [
    "#ЗАДАЧА 2.2.8 EZ PANDAS\n",
    "import pandas as pd\n",
    "n = int(input())\n",
    "df1 = pd.DataFrame()\n",
    "for i in range(n):\n",
    "    s = input().split()\n",
    "    df1.insert(i, s[0], s[1:])\n",
    "print(df1)\n",
    "a = input().split()"
   ]
  },
  {
   "cell_type": "code",
   "execution_count": 14,
   "id": "53ab5c2f",
   "metadata": {},
   "outputs": [],
   "source": [
    "d = dict()\n",
    "for i in range(df1.shape[0]):\n",
    "    for j in range(n):\n",
    "        if df1.iloc[i][j] in a:\n",
    "            d[f'{df1.iloc[i][j]} - ({i}, {df1.columns[j]})'] = [df1.columns[j], df1.iloc[i][j], i]"
   ]
  },
  {
   "cell_type": "code",
   "execution_count": 15,
   "id": "6422bfde",
   "metadata": {},
   "outputs": [
    {
     "data": {
      "text/plain": [
       "{'Pandas - (0, module_name)': ['module_name', 'Pandas', 0],\n",
       " '3.7 - (0, python)': ['python', '3.7', 0],\n",
       " '3.7 - (1, python)': ['python', '3.7', 1],\n",
       " '0.11.2 - (2, version)': ['version', '0.11.2', 2],\n",
       " '3.7 - (2, python)': ['python', '3.7', 2],\n",
       " '3.7 - (3, python)': ['python', '3.7', 3]}"
      ]
     },
     "execution_count": 15,
     "metadata": {},
     "output_type": "execute_result"
    }
   ],
   "source": [
    "d"
   ]
  },
  {
   "cell_type": "code",
   "execution_count": 18,
   "id": "7b93e0c7",
   "metadata": {},
   "outputs": [
    {
     "name": "stdout",
     "output_type": "stream",
     "text": [
      "Pandas - (0, module_name)\n",
      "3.7 - (0, python)\n",
      "3.7 - (1, python)\n",
      "3.7 - (2, python)\n",
      "3.7 - (3, python)\n",
      "0.11.2 - (2, version)\n"
     ]
    }
   ],
   "source": [
    "for value in sorted(d.values(), key=lambda para: (para[1][0], para[1][1], para[1][2]), reverse=True):\n",
    "    print(f'{value[1]} - ({value[2]}, {value[0]})')"
   ]
  },
  {
   "cell_type": "code",
   "execution_count": 12,
   "id": "35edaedc",
   "metadata": {},
   "outputs": [],
   "source": [
    "#через список\n",
    "s = []\n",
    "for i in range(df1.shape[0]):\n",
    "    for j in range(n):\n",
    "        if df1.iloc[i][j] in a:\n",
    "            z = [df1.iloc[i][j], i, df1.columns[j], j]\n",
    "            s += [z]"
   ]
  },
  {
   "cell_type": "code",
   "execution_count": 13,
   "id": "3c4fe3fb",
   "metadata": {},
   "outputs": [
    {
     "data": {
      "text/plain": [
       "[['Napoleon', 0, 'cake_name', 0],\n",
       " ['1250', 0, 'price_in_rubles', 2],\n",
       " ['1300', 2, 'weight_in_gramm', 1],\n",
       " ['1300', 2, 'price_in_rubles', 2]]"
      ]
     },
     "execution_count": 13,
     "metadata": {},
     "output_type": "execute_result"
    }
   ],
   "source": [
    "s"
   ]
  },
  {
   "cell_type": "code",
   "execution_count": 15,
   "id": "bddda9f7",
   "metadata": {},
   "outputs": [],
   "source": [
    "sort_list = sorted(s, key=lambda i: i[3]) "
   ]
  },
  {
   "cell_type": "code",
   "execution_count": 16,
   "id": "d1f726c3",
   "metadata": {},
   "outputs": [
    {
     "data": {
      "text/plain": [
       "[['Napoleon', 0, 'cake_name', 0],\n",
       " ['1300', 2, 'weight_in_gramm', 1],\n",
       " ['1250', 0, 'price_in_rubles', 2],\n",
       " ['1300', 2, 'price_in_rubles', 2]]"
      ]
     },
     "execution_count": 16,
     "metadata": {},
     "output_type": "execute_result"
    }
   ],
   "source": [
    "sort_list"
   ]
  },
  {
   "cell_type": "code",
   "execution_count": 18,
   "id": "af6e9df3",
   "metadata": {},
   "outputs": [],
   "source": [
    "from operator import itemgetter, attrgetter, methodcaller"
   ]
  },
  {
   "cell_type": "code",
   "execution_count": 38,
   "id": "6a38d265",
   "metadata": {},
   "outputs": [],
   "source": [
    "sort_list_2 = sorted(sort_list, key=itemgetter(0),reverse=True)"
   ]
  },
  {
   "cell_type": "code",
   "execution_count": 39,
   "id": "b73ec17c",
   "metadata": {},
   "outputs": [
    {
     "data": {
      "text/plain": [
       "[['Napoleon', 0, 'cake_name', 0],\n",
       " ['1300', 2, 'weight_in_gramm', 1],\n",
       " ['1300', 2, 'price_in_rubles', 2],\n",
       " ['1250', 0, 'price_in_rubles', 2]]"
      ]
     },
     "execution_count": 39,
     "metadata": {},
     "output_type": "execute_result"
    }
   ],
   "source": [
    "sort_list_2"
   ]
  },
  {
   "cell_type": "code",
   "execution_count": 1,
   "id": "153a3911",
   "metadata": {},
   "outputs": [
    {
     "name": "stdout",
     "output_type": "stream",
     "text": [
      "3\n",
      "cake_name Napoleon RedVelvet HoneyCake Aida\n",
      "weight_in_gramm 900 1200 1300 1000\n",
      "price_in_rubles 1250 1400 1300 1000\n",
      "   cake_name weight_in_gramm price_in_rubles\n",
      "0   Napoleon             900            1250\n",
      "1  RedVelvet            1200            1400\n",
      "2  HoneyCake            1300            1300\n",
      "3       Aida            1000            1000\n",
      "Napoleon 1300 1250\n"
     ]
    }
   ],
   "source": [
    "#ВТОРОЙ ВАРИАНТ\n",
    "import pandas as pd\n",
    "n = int(input())\n",
    "df1 = pd.DataFrame()\n",
    "for i in range(n):\n",
    "    s = input().split()\n",
    "    df1.insert(i, s[0], s[1:])\n",
    "print(df1)\n",
    "a = input().split()"
   ]
  },
  {
   "cell_type": "code",
   "execution_count": 2,
   "id": "a6b88243",
   "metadata": {},
   "outputs": [],
   "source": [
    "#через список по столбцам\n",
    "s = []\n",
    "for j in range(n):\n",
    "    for i in range(df1.shape[0]):    \n",
    "        if df1.iloc[i][j] in a:\n",
    "            z = [df1.iloc[i][j], i, df1.columns[j], j]\n",
    "            s += [z]"
   ]
  },
  {
   "cell_type": "code",
   "execution_count": 3,
   "id": "a1d27273",
   "metadata": {},
   "outputs": [
    {
     "data": {
      "text/plain": [
       "[['Napoleon', 0, 'cake_name', 0],\n",
       " ['1300', 2, 'weight_in_gramm', 1],\n",
       " ['1250', 0, 'price_in_rubles', 2],\n",
       " ['1300', 2, 'price_in_rubles', 2]]"
      ]
     },
     "execution_count": 3,
     "metadata": {},
     "output_type": "execute_result"
    }
   ],
   "source": [
    "s"
   ]
  },
  {
   "cell_type": "code",
   "execution_count": 4,
   "id": "0a7a3107",
   "metadata": {},
   "outputs": [],
   "source": [
    "dff = pd.DataFrame(s)"
   ]
  },
  {
   "cell_type": "code",
   "execution_count": 5,
   "id": "2c3ac6a3",
   "metadata": {},
   "outputs": [
    {
     "data": {
      "text/html": [
       "<div>\n",
       "<style scoped>\n",
       "    .dataframe tbody tr th:only-of-type {\n",
       "        vertical-align: middle;\n",
       "    }\n",
       "\n",
       "    .dataframe tbody tr th {\n",
       "        vertical-align: top;\n",
       "    }\n",
       "\n",
       "    .dataframe thead th {\n",
       "        text-align: right;\n",
       "    }\n",
       "</style>\n",
       "<table border=\"1\" class=\"dataframe\">\n",
       "  <thead>\n",
       "    <tr style=\"text-align: right;\">\n",
       "      <th></th>\n",
       "      <th>0</th>\n",
       "      <th>1</th>\n",
       "      <th>2</th>\n",
       "      <th>3</th>\n",
       "    </tr>\n",
       "  </thead>\n",
       "  <tbody>\n",
       "    <tr>\n",
       "      <th>0</th>\n",
       "      <td>Napoleon</td>\n",
       "      <td>0</td>\n",
       "      <td>cake_name</td>\n",
       "      <td>0</td>\n",
       "    </tr>\n",
       "    <tr>\n",
       "      <th>1</th>\n",
       "      <td>1300</td>\n",
       "      <td>2</td>\n",
       "      <td>weight_in_gramm</td>\n",
       "      <td>1</td>\n",
       "    </tr>\n",
       "    <tr>\n",
       "      <th>2</th>\n",
       "      <td>1250</td>\n",
       "      <td>0</td>\n",
       "      <td>price_in_rubles</td>\n",
       "      <td>2</td>\n",
       "    </tr>\n",
       "    <tr>\n",
       "      <th>3</th>\n",
       "      <td>1300</td>\n",
       "      <td>2</td>\n",
       "      <td>price_in_rubles</td>\n",
       "      <td>2</td>\n",
       "    </tr>\n",
       "  </tbody>\n",
       "</table>\n",
       "</div>"
      ],
      "text/plain": [
       "          0  1                2  3\n",
       "0  Napoleon  0        cake_name  0\n",
       "1      1300  2  weight_in_gramm  1\n",
       "2      1250  0  price_in_rubles  2\n",
       "3      1300  2  price_in_rubles  2"
      ]
     },
     "execution_count": 5,
     "metadata": {},
     "output_type": "execute_result"
    }
   ],
   "source": [
    "dff"
   ]
  },
  {
   "cell_type": "code",
   "execution_count": 29,
   "id": "30a42a02",
   "metadata": {},
   "outputs": [],
   "source": [
    "dff = dff.sort_values([3,0], ascending=[True, False])"
   ]
  },
  {
   "cell_type": "code",
   "execution_count": 30,
   "id": "b123536f",
   "metadata": {},
   "outputs": [],
   "source": [
    "spisok = dff.values.tolist()"
   ]
  },
  {
   "cell_type": "code",
   "execution_count": 31,
   "id": "86baa077",
   "metadata": {},
   "outputs": [
    {
     "data": {
      "text/plain": [
       "[['Napoleon', 0, 'cake_name', 0],\n",
       " ['1300', 2, 'weight_in_gramm', 1],\n",
       " ['1300', 2, 'price_in_rubles', 2],\n",
       " ['1250', 0, 'price_in_rubles', 2]]"
      ]
     },
     "execution_count": 31,
     "metadata": {},
     "output_type": "execute_result"
    }
   ],
   "source": [
    "spisok"
   ]
  },
  {
   "cell_type": "code",
   "execution_count": 32,
   "id": "342de2f2",
   "metadata": {},
   "outputs": [
    {
     "name": "stdout",
     "output_type": "stream",
     "text": [
      "Napoleon - (0, cake_name)\n",
      "1300 - (2, weight_in_gramm)\n",
      "1300 - (2, price_in_rubles)\n",
      "1250 - (0, price_in_rubles)\n"
     ]
    }
   ],
   "source": [
    "for i in spisok:    \n",
    "    print(f'{i[0]} - ({i[1]}, {i[2]})')"
   ]
  },
  {
   "cell_type": "code",
   "execution_count": null,
   "id": "ec33772a",
   "metadata": {},
   "outputs": [],
   "source": []
  }
 ],
 "metadata": {
  "kernelspec": {
   "display_name": "Python 3 (ipykernel)",
   "language": "python",
   "name": "python3"
  },
  "language_info": {
   "codemirror_mode": {
    "name": "ipython",
    "version": 3
   },
   "file_extension": ".py",
   "mimetype": "text/x-python",
   "name": "python",
   "nbconvert_exporter": "python",
   "pygments_lexer": "ipython3",
   "version": "3.9.12"
  }
 },
 "nbformat": 4,
 "nbformat_minor": 5
}
