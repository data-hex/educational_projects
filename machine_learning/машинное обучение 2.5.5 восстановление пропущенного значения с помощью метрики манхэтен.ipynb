{
 "cells": [
  {
   "cell_type": "code",
   "execution_count": 17,
   "id": "47a8e064",
   "metadata": {},
   "outputs": [],
   "source": [
    "import numpy as np\n",
    "P1 = np.array([5,5,5])\n",
    "P2 = np.array([5,3,4])\n",
    "P3 = np.array([2,5,3])\n",
    "P4 = np.array([3,4,4])"
   ]
  },
  {
   "cell_type": "code",
   "execution_count": 18,
   "id": "a208cf15",
   "metadata": {},
   "outputs": [
    {
     "data": {
      "text/plain": [
       "4.0"
      ]
     },
     "execution_count": 18,
     "metadata": {},
     "output_type": "execute_result"
    }
   ],
   "source": [
    "manhat1 = np.linalg.norm(P4 - P1, ord=1)\n",
    "manhat1"
   ]
  },
  {
   "cell_type": "code",
   "execution_count": 19,
   "id": "9aa33779",
   "metadata": {},
   "outputs": [
    {
     "data": {
      "text/plain": [
       "3.0"
      ]
     },
     "execution_count": 19,
     "metadata": {},
     "output_type": "execute_result"
    }
   ],
   "source": [
    "manhat2 = np.linalg.norm(P4 - P2, ord=1)\n",
    "manhat2"
   ]
  },
  {
   "cell_type": "code",
   "execution_count": 20,
   "id": "2a868aa4",
   "metadata": {},
   "outputs": [
    {
     "data": {
      "text/plain": [
       "3.0"
      ]
     },
     "execution_count": 20,
     "metadata": {},
     "output_type": "execute_result"
    }
   ],
   "source": [
    "manhat3 = np.linalg.norm(P4 - P3, ord=1)\n",
    "manhat3"
   ]
  },
  {
   "cell_type": "code",
   "execution_count": 21,
   "id": "3760aaff",
   "metadata": {},
   "outputs": [
    {
     "data": {
      "text/plain": [
       "4.090909090909092"
      ]
     },
     "execution_count": 21,
     "metadata": {},
     "output_type": "execute_result"
    }
   ],
   "source": [
    "(1/(1/manhat1 + 1/manhat2 + 1/manhat3))*(3/manhat1 + 4/manhat2 + 5/manhat3)"
   ]
  },
  {
   "cell_type": "code",
   "execution_count": null,
   "id": "71931782",
   "metadata": {},
   "outputs": [],
   "source": []
  }
 ],
 "metadata": {
  "kernelspec": {
   "display_name": "Python 3 (ipykernel)",
   "language": "python",
   "name": "python3"
  },
  "language_info": {
   "codemirror_mode": {
    "name": "ipython",
    "version": 3
   },
   "file_extension": ".py",
   "mimetype": "text/x-python",
   "name": "python",
   "nbconvert_exporter": "python",
   "pygments_lexer": "ipython3",
   "version": "3.9.12"
  }
 },
 "nbformat": 4,
 "nbformat_minor": 5
}
