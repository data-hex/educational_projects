{
 "cells": [
  {
   "cell_type": "code",
   "execution_count": 1,
   "id": "66c94f08",
   "metadata": {},
   "outputs": [
    {
     "name": "stdout",
     "output_type": "stream",
     "text": [
      "0.0,0.3,-0.5\n"
     ]
    }
   ],
   "source": [
    "import numpy as np\n",
    "X = np.array([\n",
    "    [1, 1, 0.3],\n",
    "    [1, 0.4, 0.5],\n",
    "    [1, 0.7, 0.8],\n",
    "])\n",
    "y = np.array([1, 1, 0]) #вектор реальных значений\n",
    "w = np.array([0, 0, 0]) #вектор изначальных весов\n",
    "\n",
    "def predictor(w, x):\n",
    "    return np.dot(w.T, x) > 0\n",
    "\n",
    "for i in range(len(X)):\n",
    "    row = X[i]\n",
    "    if predictor(w, row) != y[i]:\n",
    "        if predictor(w, row):\n",
    "            w = w - row\n",
    "        else:\n",
    "            w = w + row\n",
    "\n",
    "print(*w.round(2), sep=',')"
   ]
  },
  {
   "cell_type": "code",
   "execution_count": null,
   "id": "6d895a1b",
   "metadata": {},
   "outputs": [],
   "source": []
  }
 ],
 "metadata": {
  "kernelspec": {
   "display_name": "Python 3 (ipykernel)",
   "language": "python",
   "name": "python3"
  },
  "language_info": {
   "codemirror_mode": {
    "name": "ipython",
    "version": 3
   },
   "file_extension": ".py",
   "mimetype": "text/x-python",
   "name": "python",
   "nbconvert_exporter": "python",
   "pygments_lexer": "ipython3",
   "version": "3.9.12"
  }
 },
 "nbformat": 4,
 "nbformat_minor": 5
}
