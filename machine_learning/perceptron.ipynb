{
 "cells": [
  {
   "cell_type": "code",
   "execution_count": 6,
   "id": "fbdaadff",
   "metadata": {},
   "outputs": [
    {
     "data": {
      "text/plain": [
       "1"
      ]
     },
     "execution_count": 6,
     "metadata": {},
     "output_type": "execute_result"
    }
   ],
   "source": [
    "import numpy as np\n",
    "\n",
    "def perceptron(x, w):\n",
    "    return 1 if w.T.dot(x) > 0 else 0\n",
    "\n",
    "w = np.array([5,0,-1,-5])\n",
    "x = np.array([1,1,1,0])\n",
    "perceptron(x,w)"
   ]
  },
  {
   "cell_type": "code",
   "execution_count": 3,
   "id": "4c39cb86",
   "metadata": {},
   "outputs": [
    {
     "data": {
      "text/plain": [
       "0"
      ]
     },
     "execution_count": 3,
     "metadata": {},
     "output_type": "execute_result"
    }
   ],
   "source": [
    "w = np.array([0,-10,5,2])\n",
    "x = np.array([0,1,0,0])\n",
    "perceptron(x,w)"
   ]
  },
  {
   "cell_type": "code",
   "execution_count": 7,
   "id": "c84238d6",
   "metadata": {},
   "outputs": [
    {
     "data": {
      "text/plain": [
       "1"
      ]
     },
     "execution_count": 7,
     "metadata": {},
     "output_type": "execute_result"
    }
   ],
   "source": [
    "w = np.array([4,-1,0,-1])\n",
    "x = np.array([1,0,1,0])\n",
    "perceptron(x,w)"
   ]
  },
  {
   "cell_type": "code",
   "execution_count": 8,
   "id": "d6f6be23",
   "metadata": {},
   "outputs": [
    {
     "data": {
      "text/plain": [
       "0"
      ]
     },
     "execution_count": 8,
     "metadata": {},
     "output_type": "execute_result"
    }
   ],
   "source": [
    "w = np.array([-5,-1,5,0])\n",
    "x = np.array([1,0,1,1])\n",
    "perceptron(x,w)"
   ]
  },
  {
   "cell_type": "code",
   "execution_count": null,
   "id": "64e8ff79",
   "metadata": {},
   "outputs": [],
   "source": []
  }
 ],
 "metadata": {
  "kernelspec": {
   "display_name": "Python 3 (ipykernel)",
   "language": "python",
   "name": "python3"
  },
  "language_info": {
   "codemirror_mode": {
    "name": "ipython",
    "version": 3
   },
   "file_extension": ".py",
   "mimetype": "text/x-python",
   "name": "python",
   "nbconvert_exporter": "python",
   "pygments_lexer": "ipython3",
   "version": "3.9.12"
  }
 },
 "nbformat": 4,
 "nbformat_minor": 5
}
