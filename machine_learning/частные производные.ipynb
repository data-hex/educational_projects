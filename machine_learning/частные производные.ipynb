{
 "cells": [
  {
   "cell_type": "code",
   "execution_count": 1,
   "id": "17b102d9",
   "metadata": {},
   "outputs": [
    {
     "name": "stdout",
     "output_type": "stream",
     "text": [
      "Частная Производная по x1 = x2*cos(x1*x2)\n",
      "Частная Производная по x2 = x1*cos(x1*x2)\n",
      "Значение второй производной в точке (1,0) = 1.00000000000000\n"
     ]
    }
   ],
   "source": [
    "from sympy import symbols, solve, diff, sin\n",
    "\n",
    "x1, x2 = symbols('x1 x2')\n",
    "Exp = sin(x1*x2)\n",
    "dx1 = diff(Exp, x1)\n",
    "print(f'Частная Производная по x1 = {dx1}')\n",
    "dx2 = diff(Exp, x2)\n",
    "print(f'Частная Производная по x2 = {dx2}')\n",
    "\n",
    "#вторая производная в точке (1,0)\n",
    "diff_x2_n = dx2.subs({x1:1, x2:0})\n",
    "print(f'Значение второй производной в точке (1,0) = {diff_x2_n.n()}')"
   ]
  },
  {
   "cell_type": "code",
   "execution_count": null,
   "id": "c2108a87",
   "metadata": {},
   "outputs": [],
   "source": []
  }
 ],
 "metadata": {
  "kernelspec": {
   "display_name": "Python 3 (ipykernel)",
   "language": "python",
   "name": "python3"
  },
  "language_info": {
   "codemirror_mode": {
    "name": "ipython",
    "version": 3
   },
   "file_extension": ".py",
   "mimetype": "text/x-python",
   "name": "python",
   "nbconvert_exporter": "python",
   "pygments_lexer": "ipython3",
   "version": "3.9.12"
  }
 },
 "nbformat": 4,
 "nbformat_minor": 5
}
