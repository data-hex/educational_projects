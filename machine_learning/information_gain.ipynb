{
 "cells": [
  {
   "cell_type": "code",
   "execution_count": 1,
   "id": "c77b7b55",
   "metadata": {},
   "outputs": [
    {
     "name": "stdout",
     "output_type": "stream",
     "text": [
      "IG по шертистости:  0.07898214060026876\n",
      "IG по голосу:  0.6099865470109876\n",
      "IG по деревьям:  0.9709505944546688\n"
     ]
    }
   ],
   "source": [
    "import pandas as pd\n",
    "from scipy.stats import entropy\n",
    "\n",
    "\n",
    "def ent(data):\n",
    "  return entropy(data.Вид.value_counts() / len(data), base=2)\n",
    "\n",
    "\n",
    "def ig(data, feature):\n",
    "  ent0 = ent(data[data[feature] == 0])\n",
    "  ent1 = ent(data[data[feature] == 1])\n",
    "  n = len(data)\n",
    "  n0 = len(data[data[feature] == 0])\n",
    "  n1 = len(data[data[feature] == 1])\n",
    "  return ent(data) - ent0 * n0 / n - ent1 * n1 / n\n",
    "\n",
    "\n",
    "df = pd.read_csv('https://stepik.org/media/attachments/course/4852/cats.csv', index_col=0)\n",
    "\n",
    "print('IG по шертистости: ', ig(df, 'Шерстист'))\n",
    "print('IG по голосу: ', ig(df, 'Гавкает'))\n",
    "print('IG по деревьям: ', ig(df, 'Лазает по деревьям'))"
   ]
  },
  {
   "cell_type": "code",
   "execution_count": null,
   "id": "e7a1bd19",
   "metadata": {},
   "outputs": [],
   "source": []
  }
 ],
 "metadata": {
  "kernelspec": {
   "display_name": "Python 3 (ipykernel)",
   "language": "python",
   "name": "python3"
  },
  "language_info": {
   "codemirror_mode": {
    "name": "ipython",
    "version": 3
   },
   "file_extension": ".py",
   "mimetype": "text/x-python",
   "name": "python",
   "nbconvert_exporter": "python",
   "pygments_lexer": "ipython3",
   "version": "3.9.12"
  }
 },
 "nbformat": 4,
 "nbformat_minor": 5
}
