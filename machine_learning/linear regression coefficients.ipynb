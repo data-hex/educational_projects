{
 "cells": [
  {
   "cell_type": "code",
   "execution_count": 10,
   "id": "0303b326",
   "metadata": {},
   "outputs": [
    {
     "name": "stdout",
     "output_type": "stream",
     "text": [
      "[ 0.19473684 -2.34210526]\n"
     ]
    }
   ],
   "source": [
    "#коэффициенты линейной регресии\n",
    "\n",
    "import numpy as np\n",
    "\n",
    "arr = np.array([[10,60], [7,50], [12,75]])\n",
    "arrX = arr[:,1]\n",
    "arrY = arr[:,0]\n",
    "\n",
    "b1, b0 = np.polyfit(arrX, arrY, 1, full=True)[0]\n",
    "\n",
    "print(b1)\n",
    "print(b0)"
   ]
  },
  {
   "cell_type": "code",
   "execution_count": null,
   "id": "362ef241",
   "metadata": {},
   "outputs": [],
   "source": []
  }
 ],
 "metadata": {
  "kernelspec": {
   "display_name": "Python 3 (ipykernel)",
   "language": "python",
   "name": "python3"
  },
  "language_info": {
   "codemirror_mode": {
    "name": "ipython",
    "version": 3
   },
   "file_extension": ".py",
   "mimetype": "text/x-python",
   "name": "python",
   "nbconvert_exporter": "python",
   "pygments_lexer": "ipython3",
   "version": "3.9.12"
  }
 },
 "nbformat": 4,
 "nbformat_minor": 5
}
